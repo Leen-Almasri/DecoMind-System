{
  "cells": [
    {
      "cell_type": "markdown",
      "source": [
        "![Screenshot (276).png](data:image/png;base64,iVBORw0KGgoAAAANSUhEUgAABFwAAAFxCAYAAABOc7yGAAAAAXNSR0IArs4c6QAAAARnQU1BAACxjwv8YQUAAAAJcEhZcwAADsMAAA7DAcdvqGQAAFwwSURBVHhe7d13eJRlwvbh65nJpIeEEHoH6U0pKk2wLCJiF5eor7p2RJDPVRQrutj1XQURu+xrSVBsKLLKuqAgViwUUUA6hBYS0pMpz/dHiuQmZSaZCQn8zuPI4XLdM5NkMtnhubiLZdu2LQAAAAAAAASNwwwAAAAAAABQOxQuAAAAAAAAQUbhAgAAAAAAEGQULgAAAAAAAEFG4QIAAAAAABBkFC4AAAAAAABBRuECAAAAAAAQZBQuAAAAAAAAQUbhAgAAAAAAEGQULgAAAAAAAEFG4QIAAAAAABBkFC4AAAAAAABBRuECAAAAAAAQZBQuAAAAAAAAQUbhAgAAAAAAEGQULgAAAAAAAEFG4QIAAAAAABBkFC4AAAAAAABBRuECAAAAAAAQZBQuAAAAAAAAQUbhAgAAAAAAEGQULgAAAAAAAEFG4QIAAAAAABBkFC4AAAAAAABBRuECAAAAAAAQZBQuAAAAAAAAQUbhAgAAAAAAEGQULgAAAAAAAEFG4QIAAAAAABBkFC4AAAAAAABBRuECAAAAAAAQZBQuAAAAAAAAQUbhAgAAAAAAEGQULgAAAAAAAEFG4QIAAAAAABBkFC4AAAAAAABBRuECAAAAAAAQZBQuAAAAAAAAQUbhAgAAAAAAEGQULgAAAAAAAEFG4QIAAAAAABBkFC4AAAAAAABBRuECAAAAAAAQZBQuAAAAAAAAQUbhAgAAAAAAEGQULgAAAAAAAEFG4QIAAAAAABBkFC4AAAAAAABBRuECAAAAAAAQZBQuAAAAAAAAQUbhAgAAAAAAEGQULgAAAAAAAEFG4QIAAAAAABBkFC4AAAAAAABBRuECAAAAAAAQZBQuAAAAAAAAQUbhAgAAAAAAEGQULgAAAAAAAEFm2bZtmyEAAA2B1+tVVlZW2Ud2draysrIkSXFxcYd9REREmA8BAAAAhASFCwCgQdm4caM+++wzvfPOO1q6dKk5XKVevXpp3LhxGjNmjAYNGmQOAwAAAEFD4QIAqPd+/PFHLVq0SP/5z38CLlkq06tXL40ePVpnnHGGRo8ebQ4DAAAAtULhAgCot7Zt26aZM2dq5syZcrvd5nDQjB8/XpMnT9bgwYPNIQAAAKBGKFwAAPVOXl5eWdGSlpZmDofMzTffrMmTJ6tLly7mEAAAABAQChcAQL3yxhtv6PHHH9fq1avNoTqRmJioSZMmafr06eYQAAAA4DcKFwBAvXH33Xfr4YcfNuMj4q9//atSU1PNGAAAAPALhQsAoF646KKL9N5775nxEdW3b199+eWXio+PN4cAAACAKlG4AACOuJ49e2rdunVmXC+4XC6tXLlSffr0MYcAAACASlG4AACOKMuyzKheWrZsmYYNG2bGAAAAQIUcZgAAQF2Jjo42o3pr+PDh+uGHH8wYAAAAqBCFCwDgiEhMTFR+fr4Z12uDBg3S2rVrzRgAAAA4DIULAKDOtW7dWhkZGWbcIPTu3VubNm0yYwAAAKAcChcAQJ067rjjtGvXLjNuUDp37qy0tDQzBgAAAMpQuAAA6kyfPn30xx9/mHGD1KpVqwY7SwcAAAChR+ECAKgTgwYN0po1a8y4QUtMTFROTo4ZAwAAABQuAIDQO+WUU47aE37i4uJUWFhoxgAAADjGUbgAAELqzDPP1LJly8z4qBIXFyev12vGAAAAOIZRuAAAQua8887TZ599ZsZHHbfbrcTERDMGAADAMYzCBQAQEuPHj9eCBQvM+KiVlZWlFi1amDEAAACOURQuAICg+9vf/qZ58+aZcZ1xhYWpWVKCGYfcnj171LFjRzMGAADAMYjCBQAQVBMmTNDcuXPNuM506NBBp484Sc/ce7UsyzKHQ27Lli3q2bOnGQMAAOAYQ+ECAAiaW2+9Vc8//7wZh1ybNm309NNPa/Xq1dq8ebPee+9DNY6O0Ly35uqUU04xbx5y69atU//+/c0YAAAAxxAKFwBAUNx999365z//acYhN27cOH3++ee65ZZb1Lt3b0mSLUsHsvJ00UUX6T//+Y+mTp1q3i3kfvrpJw0dOtSMAQAAcIygcAEA1NqMGTP08MMPm3HI3XfffXr77bfVtWvXcrllWUpq3EiWZcnlcumxxx7T22+/Xe42dWHFihU644wzzBgAAADHAAoXAECtPPnkk7r33nvNOOTuuusuPfDAA2YsSXI4HLIcDlnWn29z48aN0xtvvFHudnXh888/1znnnGPGAAAAOMpRuAAAamz27Nm6/fbbzTjkbr/9dj300ENmXMbn88rhcMo+pHCRpMsuu0yvvfZauawufPzxxxo3bpwZAwAA4ChG4QIAqJFXX31VN998sxmH3JQpU/T444+bcRnbtmV7cuWTJCvMHNZVV12lF1980YxDbv78+briiivMGAAAAEcpChcAQMDeeustXXPNNWYccjfffLMfG/Pacuce0J59ByVVfCz0ddddp2effdaMQ+7111/XDTfcYMYAAAA4ClG4AAAC8v777+uyyy4z45C74YYbNGvWLDM+jGU55IhKUmxMtCyr4sJFkiZOnOhHeRN8L774oqZMmWLGAAAAOMpQuAAA/LZo0SJdeOGFZhxyV199tZ5//nkzrpwjTDExUWZ6mOqWJ4XKM888o2nTppkxAAAAjiIULgAAv/znP//RmDFjzDjkrrjiCr3yyitmXCVvUa4csmTbtjl0mNtvv10zZsww45B79NFHKz1lCQAAAA0fhQsAoFpffPGF/vKXv5hxyCUnJ+tf//qXGVfN9ilr24/y+KovW0rdfffduv/++8045KZPn35EZtgAAAAg9ChcAABV+uqrrzRy5EgzDrlx48bprbfeMuNq2ZJkFykmrlGVe7iYpk+frrvuusuMQ+6OO+7wa28aAAAANCwULgCASn333XcaNmyYGYfc+eefr9TUVDP2iyUpLCxcTVu0Moeq9dBDD+m2224z45CbPHmyXn75ZTMGAABAA0bhAgCo0I8//qiTTjrJjEPu7LPPVmpqqhyOmr1F2bZkWU41adrCHPLLE088oVtuucWMQ+66667TG2+8YcYAAABooGr2t1kAwFFt9erVGjBggBmH3JlnnqnU1FRFRESYQ36zLMnhcMgKq/ljPP3007rpppvMOOT+53/+R/PnzzdjAAAANEAULgCAcn777Tf17dvXjEPutNNOU2pqqmJjY82hgBXm58jhijbjgMyePVvXXnutGYfcuHHj9OGHH5oxAAAAGhgKFwBAmY0bN6pHjx5mHHLDhw9XamqqEhISzKEasSxbrshov46FrspLL72kK6+80oxD7vzzz9cnn3xixgAAAGhAKFwAAJKkrVu3qlu3bmYccoMHD9a8efPUtGlTc6jG4honKDq+aUCnFFVm7ty5uvTSS8045M4++2x99tlnZgwAAIAGgsIFAKBdu3apZ8+e8vl85lBIDRw4UKmpqWrZsqU5VGM+n09bfvuteDOXIHnzzTd18cUXm3HInXnmmVqyZIkZAwAAoAGgcAGAY9zevXvVt29f5eXlmUMh1a9fP6Wmpqpdu3bmUK3lZmerKHtPrZcUHeqdd97ReeedZ8Yhd9ppp2n58uVmDAAAgHqOwgUAjmEZGRkaMGCA0tPTzaGQ6tWrl+bNm6fOnTubQ0Gxf3+GsvduCsqSokN98MEHGjNmjBmH3PDhw/Xtt9+aMQAAAOoxChcAOEZlZ2frpJNO0o4dO8yhkOratatSU1NDtl+MbduyZSssLNwcCoqFCxfqjDPOMOOQO/nkk7Vy5UozBgAAQD1F4QIAx6CCggINHTpUGzZsMIdCqmPHjkpNTVXv3r3NoaCxLMnrkxwRjcyhoFm8eLFGjBhhxiE3cOBArVq1yowBAABQD1G4AMAxxuv1asSIEVq9erU5FFJt27bVvHnzdMIJJ5hDQWXbttxuj8KjQle4SNLnn3+uIUOGmHHI9evXT+vWrTNjAAAA1DMULgBwjDn99NP13XffmXFItWjRQqmpqRo0aJA5FBL5RR65IqODummuyel0avHixRo4cKA5FHK9evXSxo0bzRgAAAD1CIULABxDRo8erS+++MKMQ6pJkyZKTU2tu9kgtpSVky/L4TRHgi46OlqLFy9Wv379zKGQsm1bffv21ZYtW8whAAAA1BMULgBwjLjgggv06aefmnFIxcfHa968eXW634ktyeezJatu3uISEhL02WefqWfPnuZQSOXn52vAgAHauXOnOQQAAIB6oG7+NgoAOKIuvfRSffDBB2YcUtHR0UpNTdXpp59uDoWUz+crPg66Dma4lGrWrJn+/e9/67jjjjOHQurAgQM66aSTtHfvXnMIAAAARxiFCwAc5a6++mqlpKSYcUiFh4dr3rx5Gj16tDkUcg6HpYTYyDp/i2vbtq3+/e9/q3379uZQSO3cuVNDhw5VRkaGOQQAAIAjqG7/NgoAqFMTJ07Ua6+9ZsYhZVmWUlNTNXbsWHOoTti2rdiYKFmWVTzTpQ517txZixYtUqtWrcyhkNq4caNOOeUUZWdnm0MAAAA4QihcAOAo9f/+3//Tc889Z8Yhl5qaqgsuuMCM64xt+7QnI0+WM9wcqhM9evTQwoULlZSUZA6F1Jo1a3T66aeroKDAHAIAAMARQOECAEehqVOn6umnnzbjkHvzzTd1ySWXmHGdsmQrOjpCssLMoTpz/PHHa+HChYqPjzeHQur777/XmWeeKa/Xaw4BAACgjlG4AMBR5q677tITTzxhxiE3d+5cXXrppWZc92yvGsVEm2mdO/HEE/XRRx8pOrpuv5Yvv/xSZ599thkDAACgjlG4AMBR5P7779cjjzxixiH30ksv6corrzTjI8SnRjERsj1HfmnN8OHDtWDBArlcLnMopD799NMjuqwLAAAAFC4AcNSYMWOGHnzwQTMOuTlz5ujaa6814yPH55XX61b+/t/NkSPi9NNP14cffmjGIffBBx8oOTnZjAEAAFBHKFwA4Cjw6KOP6t577zXjkJs5c6ZuvPFGMz7i3EVF8rrrz4k9Z511lt5//30zDrnU1FRdffXVZgwAAIA6QOECAA3cU089pWnTpplxyD311FOaNGmSGR9Rtm0X/9dny+mKM4ePqPPPP1/z5s0z45B77bXXNGHCBDMGAABAiFG4AEAD9swzz+i2224z45B77LHHdOutt5rxEWdZlqyS4iU8tnlZAVNfXHLJJXr99dfNOOSef/55TZ482YwBAAAQQhQuANBAPffcc5oyZYoZh9yMGTM0depUM643LIel1m1byhnZSJZlmcNH3OWXX66XX37ZjENu1qxZ+vvf/27GAAAACBEKFwBogF566SVNnDjRjEPu/vvv1913323G9YplOdSiZQvJ9ta7GS6lrrnmGj333HNmHHL/+7//qzvuuMOMAQAAEAIULgDQwLz22mu6/vrrzTjk7r77bk2fPt2M6x2vHPrpx9UqOLirXs5wKTVhwgT985//NOOQe/zxx3XPPfeYMQAAAIKMwgUAGpA33njjiJw6M3XqVM2YMcOM6yXbtrVu005l7FhvDtU7U6ZM0WOPPWbGIffQQw/pgQceMGMAAAAEEYULADQQ8+bN0//8z/+YccjdeuutR6QUqCnLClNi41g5LK85VC9NnTpV//jHP8w45KZPn66HH37YjAEAABAkFC4A0AC8++67Gj9+vBmH3KRJk/TUU0+Zcf1mORTm9cjtdpsj9dY999yje++914xD7u6779bjjz9uxgAAAAgCChcAqOcWLFigiy++2IxD7sYbb9TMmTPNuN6zbSktM1/xzTuZQ/Xagw8+qDvvvNOMQ+6OO+44InvJAAAAHO0oXACgHvvkk0903nnnmXHIXXvttZozZ44ZNxj5tlNR8S3q7SlFlXnkkUd06623mnHI3XrrrXr22WfNGAAAALVA4QIA9dTixYt19tlnm3HIXXnllXrppZfMuAHxyOtxKzcz3RxoEJ566ilNmjTJjENu0qRJeuGFF8wYAAAANUThAgD10NKlS3XWWWeZcchdeumlmjt3rhk3ELa8Hrf2/P6VCgsKtHnNcnnd+ZIa1iwXSZo5c6ZuvPFGMw65G2+8Ua+88ooZAwAAoAYsu6HNtwaAo9zy5ct11llnKScnxxwKqUsuuUTz5s0z43rNtm153QUqKshTQV6Wtq37Ru+++46y8gqVEB2h0WeMVPeTxigqNkGuiGg5XZGS1XD+reGaa67Rq6++asYh969//UtXXHGFGQMAACAAFC4AUI98++23Ouecc7Rv3z5zKKQuuOACzZ8/Xw5HwykjJOngvu1a891/tGHdL9q2facys3LkOaRQcVqWEhtFa0D3DmrbobM6HH+aYpt2kuVwlnuc+uyKK67Q66+/bsYh99Zbbyk5OdmMAQAA4CcKFwCoJ1auXKkLL7xQ27ZtM4dCauzYsZo/f74iIiLMoXrLtm3ZngL9Z95MLf7yKxV6vKUDkmWZN1ezuEh1apmoLt176PhRf5MrurF5k3otOTlZqampZhxy77zzzhE5IQsAAOBo0LD+KRMAjlKrVq1ScnJynZcto0ePVkpKSoMqWyTJsizlZu7Rbxs2qtDtkXw+yeORioqkggLJ7Sn+s6d4LCO3UHsysrU3bYfys9Mb3OlFKSkpuvDCC8045MaNG6cPPvjAjAEAAOAHChcAOMLWrVun5ORkbdiwwRwKqdNPP10pKSmKjY01hxqEg3t3KDP9gOzcXCkvT8rPl11YWFK65Bf/OT9fjrw8RbkLVJiVo8yDOfJ5CnX4HJj6791339U555xjxiF3wQUXaOHChWYMAACAalC4AMARtGHDBiUnJ+vXX381h0LqlFNOUUpKihISEsyhBiOuSQtFRUXJ8vkkn0+2z1e8pMi25VTxn52ylRRhqUmYrSaRDvUfNFSNmnWucNlRQ7BgwQKNHj3ajENu7Nix+uyzz8wYAAAAVaBwAYAjZMuWLUpOTtYvv/xiDoXUkCFDlJqaqqZNm5pDDUqjZh019JSRio4MV4tIh9rGuRQTESZJahXlVPOYMMWEWYoLdyoqKlxOh6XwqBhZDWxjYNOiRYt02mmnmXHIjR07VkuWLDFjAAAAVKJh/60TABqoHTt2KDk5WStXrjSHQmrQoEFKSUlRy5YtzaEGx7IsZWZlKSHCoYS4SDWKjVSjMMmWtCvfJ5ekJuGWbEvyeX1ye7wqys+Rz+sxH6rB+fzzzzV8+HAzDim3263zzjtPy5YtM4cAAABQAQoXAKhje/bsUXJysr755htzKKROOOEEpaSkqF27duZQg+TzFqkg56Ac8snhdMjhcCghNkKWJXltaU++R7IshTkcsi1LDstSbvYByW74hYskffnllzr55JPNOKSys7N18cUX1/lrFwAAoCGicAGAOnTgwAElJydr+fLl5lBI9e7dWykpKercubM51GAV5WXpwN49Ss/1KCenQF6PV2HOMLWMcckhu3hjXNuWLVuuMKecLpeKCnLldReaD9Vgff311+rfv78Zh9TevXs1fvz4Op+dBQAA0NBQuABAHcnKylJycnKd74PRrVs3paSkqFu3buZQg1aQc0DO/CwlhBcXK/l5BSoqLFKjKJdaxYSpaaRTlmXJKjmTyBEWpqKCfHmK8s2HatBWrlypPn36mHFIbd26VcnJyVq1apU5BAAAgBIULgBQB/Lz85WcnFznJ7107txZKSkp6t27tznUoNm2rbysdBXk5sq2pVyPrTyvVFhYJHehW2GyFV76DnfIgUR5eflyFxbItu0/w6PAqlWr1L17dzMOqSN1whYAAEBDQeECACHmdruVnJysTz75xBwKqXbt2iklJUUnnHCCOdTw2V6l79qivVn52lfgU3qhT/vyPTpQaOtAkU8ZHumA21am21ZOoVceny2vx6Pc3DwV5mWqeGvdo8u6devUqVMnMw6pX3/9VZdeeqk2bNhgDgEAABzzKFwAIMSSk5P14YcfmnFItWzZUikpKRo0aJA5dFTwFmRpz47NOphfJG9Jd+KzpWyPrcxCnw4W+pRVVPy/9+R5tD3Xq4O5BSrIyVXW3q3yeYrMhzwq/PHHH2rbtq0Zh9Qvv/yi5ORkbdmyxRwCAAA4plG4AEAITZ48We+++64Zh1TTpk2VkpKiIUOGmENHBW9Rrn7//lMt+2alPF5vlcuDbElen63CvAIV5Rcq90CGVn/zhTK3/Szb5zVvflTYtm2bWrRoYcYhtXLlSiUnJ2vnzp3mEAAAwDGLwgUAQmTWrFmaNWuWGYdUQkKCUlJSNGLECHPoqODzFGrrqiX66MMPlHkwW5YrXFZMjCLjYuSIiJBcrvIf4eFSVLTiosIVHWbJkq0Du3bp60Wpytz+i1RFWdOQpaWlKTEx0YxD6ptvvlFycrL27NljDgEAAByTLLuqfxoEANTIokWLNGbMGDMOqZiYGM2fP1+jR482h44K3sJsbfr+I3356SdavStDvgDfvSIcUrNwS/FhkishQXHxjXTi8FPVuvdIOaObmjdv8IqKipSUlKTs7GxzKKROO+00vfPOO3Ve+AAAANQ3FC4AEGQbN27UWWedpY0bN5pDIRMREaH58+dr7Nix5lCDZts+ed0F2rthhX7+cpFWr9ukvblFclf2zlXuLc0qd0JRqRin1DTcUmxkmByxcWrXurm69Rmgpl1PVmRCG1mOMFlWBXdsgLKzs9WsWTMVFBSYQyE1atQozZ8/X3FxceYQAADAMYPCBQCCbMyYMVq0aJEZh4zD4dD8+fN1wQUXmEMNlu3zylOUp52/f6N13y/R96t+18Hcgj+LltK3Lp9Ptm3LcruLs7K3NEuyLCkyovi/FRQoLktKckmJ0S7FJiYoPrGxuvcdoDZ9TlN4TJIcTleF92to0tPT1axZM/l8PnMopM4++2zNnz9fkZGR5hAAAMAxgcIFAILoxRdf1A033GDGITVv3jxdcsklZtxA2fIU5Ch95+9avWKRfl61RjsO5BQvH7Lt4oLF55M8HjlsW7bXW/U+LJYl2+GQVVa8OA4rUaIcUocoyRUVqbjGCUps1ly9ThqppE6D5IpsJMvhLHf7higtLU2tWrUy45A7//zz9c477ygsLMwcAgAAOOpRuABAEA0cOFArV64045B58803demll5pxg+TzFCp7/3at/WaRvvn2W6XtTlehreJTiGxbjqIi+TxeWSr/tlVan1hW+Z3g/1wWZEuyZDksyemUIzxcsqyy+4VZtpKcPsVEuGQ5HYpo1EgxCQnq1L2nOvc/Q7FNO8rhDD/kkRumLVu2qGPHjmYccuPGjdPbb79txgAAAEc9ChcACJK6nt0yd+5cXXnllWbcANkqzM3QljXLtXzJZ/p9w2YV5uTK5/PJcjgk25Zt23LYtsIcktNhKUxSmENyWJach2zVEmYVT3g5dBXRofNZLMuSw+mQMyxMliSHw5LTUVy+OJ3OkpVIDoVFRSimcWM1bdVaPQcVz3ZxuKIb/N4u69evV7du3cw45P75z39qypQpZgwAAHBUo3ABgCCpy9ktL730kq699lozbnBsn1fZ6Tv0/eJ5Wv7ND8rYny6vu0gOW3KWdBu2pOgwh6LDpLBDShKn0yGHVTxzpfjA55K3M7v4PsX/u/h/WY7iB7MsS84wpxyV7OtiORxyhIXJFRWpsKgoOV0uRUVFq9eAk9W+/xiFhcdWeL+GZPXq1erbt68Zh1RCQoKWLFmi448/3hwCAAA4alG4AEAQ1OXsljlz5ujGG2804wbH9nmVvW+LFqXO0Y+//Kr87ByFWVKTcEsux58zU2yVzGRxWHKGORQeHl4808SS/lwY9Cev16u8giI5LEuuMIccTqecTkfxbSuY9WKXLj+yLEU1TpAzoni/F4fDUbIYSXK5XOrZr7+6DBsvpyv6kHs3TCtXrtTAgQPNOKTOP/98vf/++2YMAABw1Dp0uTsAoIZefPFFMwqJmTNnHh1li22rKD9L3y58TT/8tEaF2TlKcFlqGWUp0lG8NMhpSVFR4WrUKFpxjaIVHRulyMhIOZyO4lktpaWLVdKKlHzk5xUoo8CrzHyPigqKVJBboKJCd0m1Unyqk11SsJT+i0Ppvz0ULzlyyuEofnt0lGQet1trfvpBO1a+L9v2ln0fDdWAAQO0YsUKMw6pDz74gMIFAAAcUyhcAKCWFi1aVCdLiZ566ilNmjTJjBsk2+dR2tov9MeqVYqVRy2jHYp3SU79uWLHLilHHA6HLOvQgqX4f5d+2JIczj/fzmIbxah1QpSaxoYrPMKliEiXLMsqPulIkm375LCsspKltGCxfT4V5eUVn4JUwi4pY2xJPq9XP3+zQnm7fi67b0M2ePBgLVmyxIxD6pdffjEjAACAoxaFCwDU0qJFi8wo6B577DHdeuutZtxged1F2rjqWxXm5ChOHoXJLlkeVPJRsudKQWGRvB6vCt2esvvaJZvoln5Iks9bXJI4w4qPcHaGORUeGa7wyAi5IoqLF0fJYxafLl18e4fTKZ/XW/ZnT36BinLzSj5TebakgiK3tv34H8mTbw43SCNHjtSnn35qxiGzatUqMwIAADhqUbgAQC2FunCZMWOGpk6dasYNlm3bKsjYop1btspXMu2kdPZK2YfPLt5nxetTXl6BivIK5XF7i0sW359li6+0eCl5bK/HK1l/Fi+lik+WLr69z7bl8xV/eDyesvs6nE6FRYTLV1RUdjJS2VIj2XLIlmVZ2rQtTQUZW46KWS6SNGrUKH300UdmHBIULgAA4FhC4QIAtfDVV19p48aNZhw0999/v+6++24zbthsW+lb16owO6ukPCmZdWLb8vhKPmxLblsq9ElFXluFXp8ys/O1/2C+9h/MU3pWvg7mFCg7r0gFHp/kcCoyOkoxiY2U1CxeCU1iFd80Xo2aNFJEVKQsy5Lb7dXBPLfSswu1K6tAOw8WaF92obLzi+Tz+uTzeuUuLJLHXaSi7GzZXm/Z5rpNIiy1i7XUyCUVFhYqd8fqsj1hjgZjx47V/PnzzTjoDhw4YEYAAABHLU4pAoBauOOOO/T444+bcVCcc845WrBggRk3eD6vR1+lzNAvy1coP79IXlsq8tkq8hX/t3SvFYejeHPccKclV5hTTqdTUeFOuSKjFBcfp5iYaMVGRyo2NkqNW8QpOs6p2GaRCosofgDbJ7kLpey9bhVkFCnnYJ4KcvOUk5uv7H37VFBYoAKvJXk9ipAtV7hLHp8tR1S0IsLDFB8VJkdYmORwlC14KvQVz5Tp36eb2px6oxyumPLfXAOXkpKiSy+91IyDZty4cXr77bfNGAAA4KhE4QIAtdC9e3f9/vvvZlxrrVq10uLFi9WzZ09zqMFz52dq/v/eqt/Xb1OB2y3bcigiIlyx0ZGKi49Vo7hYxTeKUXRUpJS5R1GWRxFhDjmdDoWHuxTb7jhFNWsth9MpyZLlksJa5EnhlZwe5LXk3RMluyCseFaK7dPBNd+pKDe7eGmRLXk8Xnl8UlaBW9v25cpd5FaEy6nwiHDFRroUF+1SdESYfI4w5cmlxPhYdT97glyN2pmfrcGbO3eu/va3v5lxUDz77LOaOHGiGQMAAByVKFwAoIZyc3MVGxtrxkExe/Zs3XTTTWZ8VNj7+xd69/l/KtftU6tWzdS6bUslJjVRXFyMwiPCFRbmktPplOWwlLP+Z7kz0+Xz+YpPJQoLU0yH7gpv0rLs8awwydk6R1bYIW9ndsleMJJsr4oLl/yw4r1iZCtz9Tfy5mb/eXtJXp+tjbuztedArjwlm/CqZH+ZMKdDES6nYqIj1CIpTs2791SzHkMU3eqkco9xtHjxxRd1ww03mHGtffvttzrxxBPNGAAA4KjEHi4AUEN79+41o6Bo1aqVxo8fb8ZHjT2bV6t3l5Y6e2hPnX7mCPXq10ut27ZWo4QERUZFK8zlkuV0SLIUHp8on88nh6P47cr22fIUFkglRYhlWbK9luQz3s5KyxZf6dnOxVnpvzEU+f7cgaW4hCm+S8vGUYqKCCt9FKlkk1+3x6uc/CLtPZCjX//Yo+++/F4ZaTvK3e5ocv3112vWrFlmXCunnHIKZQsAADimULgAQA3t27fPjIJi/PjxSkxMNOOjRqcTTlWXXr3UvPfxioiKktNZvuCQ/tyPtsgRXlyqlE7G9Hkld1HxTUpPEbJt2QUO2X+eHF3GckjyOYpLmUNKF5dVcnSRio+Itm1bTqdDsZFhate8kaySgqe0jFFJ2eN2u5WbV6iIyAjFNG5dNnY0uvnmm/Xkk0+acY3NmDHDjAAAAI5qFC4AUEOhmuFywQUXmNFRJbpZDzUbfKUimnRRYcYBHdy8TgU7/1BB+h4VZmeqKOegPHk5KsrOlO0uPOz4ZXdBnmzfn0t+JMmXESvLOuQtrfQuPsn2WJK7+Jhoh8Mpn7tQ8rjLyhTbspSR79Xvadn69vd9+nXzPnndHrmLPCrIK1Rubr7yC4rkDHOqfef2GnvZZRp98yOK73D0z9b4+9//rocfftiMA/bQQw9p+PDhZgwAAHBUYw8XAKihV199Vddcc40Z19quXbvUsuWfe5QczWyvW+7sXSrY/atyt62RO3OfPHk5kmzZPl/xJBRLcljWIUuAHIrp0FWupNZ/lia2LWeLfDmiPcWzWNyWZNmS1yHPnkjJ7ZTTFaaIhA7KWvulsras0x/7cpWbW6jMnEL5vF55vF7JtuUIcykmyqXERtGKa9xYCa07qvVxPRXZrIsi4lvKCosq+Tr+nP1ytJs+fboeeOABM/bLmWeeqX//+99mDAAAcNSjcAGAGnrsscd05513mnGtJCUlhWypUn1l27Ysy5LPUyBvfqbc2Xvkzt6jggN7VJibKUdRjnxen8IcxcuAfJalsMTmiohPlG17/5zN4rClsFw5kxzFU1yKnPLuDZMcYZIlhcclyREWr6y1S+TJPagi2yGPz5blCJOcYXJGxSguPklRia3ljE1SWGxThUXGyQqLlFS8rOlYKllM3377rc444wzl5OSYQ5VauHChxowZY8YAAADHBAoXAKihv//97/rf//1fM66VE088Ud9++60ZH7Ns25al4j1WZHuLZ754fbJ9Rcrf96s8ufvk8xTv6RLWMl+ybHnSoqWwQlkuh5QfLtu2FRYRoZhWA6TwRNmefNk+rySHHGFhJf+NKC5eLMcxX6xUZceOHZowYYI+/vhjc6ic6667Tg8//LCSkpLMIQAAgGMGhQsA1NDkyZODfpLLyJEjtWTJEjNGBXzuAhUd3CxP9lZ5i/Lls9xyxBXJmx4hR+NC+bJdsnxOOV0RCotrraimvWU5w82HQQ38+uuvWrt2bdl/LctSnz59yj46depk3gUAAOCYQ+ECADVE4VIf+OQtyJQ7e4fcuemy7EL5PIXyur1yulyynJGKaNxBrrh2ssIizDsDAAAAIcMpRQCABswhZ2SiIpN6KbrVicUfLQcqqmV/RbcapJg2gxWe0JmyBQAAAHWOwgUA0PBZTjnDY+SISFRYbGtFNu6gsJgWcoTHSoceFw0AAADUEf4WCgAAAAAAEGQULgAAAAAAAEFG4QIAAAAAABBkFC4AAAAAAABBRuECAAAAAAAQZBQuAAAAAAAAQUbhAgAAAAAAEGQULgAAAAAAAEFG4QIAAAAAABBkFC4AAAAAAABBRuECAAAAAAAQZBQuAAAAAAAAQUbhAgAAAAAAEGQULgAAAAAAAEFG4QIAAAAAABBkFC4AAAAAAABBRuECAAAAAAAQZBQuAAAAAAAAQUbhAgAAcBTYs2ePXn31VU2ePFkTJkzQ/fffryVLlqigoMC8KQAAqAMULgAAAA2Yz+fTggUL9P/+3//TokWLlJaWpv379+vXX3/Vc889p+uvv14ff/yxfD6feVcAABBCFC4AgHrt448/1s0336wnn3xSb775pn788Ufl5uaaNwuYbdvKyspSRkaGPB6POYyjlMfjUWFhoRkfcbZtKz8/X7Ztm0NVsm1bH3zwgd544w253W5zWJKUn5+v//u//9MLL7zAax0AgDpk2YG+swMAJEmTJ0/WrFmzzLhWRo4cqSVLlpjxMe2ZZ57R8uXLy2WWZaljx4666KKLNHDgQDkc1f/7gc/n07Zt27Ro0SL9+OOPyszMLDceERGhrl276swzz9SAAQMUFhZWbhxHh02bNunBBx9Ubm6u4uLi1LZtWw0ePFgnnHCCmjVrJsuyzLvUiYyMDE2fPl27du1STEyMWrZsqd69e2vQoEHq0KGDwsPDzbtIkjZu3Kh//OMfysvLM4cO43Q6NXnyZA0ZMsQcOma8++67ev/995WQkKAOHTqod+/eR/xnDwA4elG4AEANUbiEnm3bevrpp7VixQpzqEzbtm01ZcoUtWvXzhySSoqWFStW6K233tK+ffvM4QrFxsbqoosu0qhRoyq90EXDdODAAd1zzz0Vvhbi4+N17rnnatSoUYqMjDSHQ2rlypV64okn5PV6zSE5HA717t1bF110kbp3715WMNq2rRdffFH/+c9/zLtUql+/fpo6deox+7p+9913lZqaasaKi4vTsGHDdP755ysxMdEcBgCgRqr/J0EAAI6QgoICHThwwIzL2b59u6ZPn67169ebQ9q2bZumTZumZ555psIL7Mrk5OToX//6l26//XZt3rzZHMZR6uDBg3r99dc1YcIELVu2LODlPTXl9Xq1dOnSCssWlZSGq1at0v3336977rlHe/bskSRlZmZq9erV5s2rVFhYWOnnOZZlZ2dr0aJFmjBhgv71r3+x9AoAEBQULgCAequoqEjZ2dlmfJjs7Gz93//9X9neLh6PR++9957uvPNObdq0yby533bt2qV7771Xy5cvr7OLbxx5OTk5mjVrllJSUurkwnv79u1au3atGVdow4YNevjhh5Wenq6MjAzl5OSYN0EVqlt65fP59PHHH+vtt982hwAACBiFCwCg3vJ6vSoqKjLjCq1fv14rV65Udna2nnrqKaWkpFS6iWggCgsL9dxzz+nzzz+ndDkKREVFqUmTJmZ8mNLNaBcsWBDSn7tt21q+fLlfxWKpjIwMpaenKz4+PuClT+3atVNUVJQZHzOqmzFXau3atcrPzzdjAAACQuECAKi3Dhw44PeJRLZt67333tN9992nH374wRyuFbfbrVdffVVff/21OYQGpqCgQBkZGWZcIdu2NX/+/JD+3Pfu3XvYptDVyc/PV0ZGhhISEtSlSxdzuFLR0dE69dRTzfiYkZ+fr/3795txhTIyMihcAAC1RuECAKi3cnJyAjrCd+fOndqxY4cZB4Xb7dbcuXOVlpZmDqEBsW1bPp/PjCvldrs1b948paenm0NBsXz58ho9dn5+vpxOp8455xzFxcWZwxUaPny4OnfubMbHjEDKNgAAgoHCBQBQb+Xl5dWrDT4zMjL0xhtv1Mm+Hqg/du3apUWLFgV9adG+ffu0dOlSM/ZLaUnTtWtX3XLLLYqPjzdvUs6QIUN0+eWXH9NHH7PnDQCgrlG4AADqrfo4m2TlypX67rvvzBgNRFFRUY0Ks+XLl2vv3r1mXCtffvmldu/ebcYB69evn2bOnKmxY8cetj9LbGysrrzySk2aNCng/V6ONgcOHKh209xSDofjmC6nAADBQeECAKi3QrU8qDa8Xq8++ugjv/eWQf0S6DK1Uunp6fr+++/NuMZqM7ulItHR0bryyis1d+5cvfDCC7rvvvs0Z84cvfLKKxo7dqzCwsLMuxxzduzY4fcspcaNGx/zBRUAoPYoXAAA9VJhYaHfJ4pUpVWrVpo0aZJeeeUVvfPOO3rnnXf0yiuv6LrrrlNsbKx5c7/88ccfWrlypRmjAahp4SJJX331VdCKtsWLF9dqdovT6TQjqWRmRmJiovr06aOkpCQ5HPxVTyV792zevNmMK5WYmEjhAgCoNd6FAQD1Ul5eXo02Ey0VERGhK664Qv/85z91yimnqFGjRmVjjRo10qhRozRz5kz17t273P38Ydu2vvzyS7+PrEb9kZmZWeN9gXbs2KHt27ebccDS0tJqPbulZcuWZoQqFBQU+H1CkSS1bt2aJUUAgFqjcAEA1EvZ2dk1PpY1Pj5e99xzj84555wq/4U/Li5Ot912m7p162YOVWvz5s21mqGAI6M2+7AUFBToxx9/NOOA2LathQsX1uq0HMuyKp3hgoodPHhQ+/btM+NKtWnTxowAAAhY5X8LBQDgCDpw4ECNlm8kJSXprrvuUvfu3c2hCsXExGj8+PEBLx/IysrSpk2bzLjGfD6fMjMzdeDAgbKPmnz/gfJ4PMrIyCj7nJmZmQEdmxwK+fn55Z6HmhZvJtu2tXPnTjMOyLp162r19axdu1ZffPGFGQckKipK8fHxysrKUlZWll/7kuTn5ysjI6NGGwYH6tDXVLA/p23bysrKCvh3ZPfu3crKyjLjCkVFRSkpKcmMAQAImGX78y4NADjM5MmTNWvWLDOulZEjR2rJkiVmfEz64IMP9Oabb5pxleLi4nTnnXeqa9eu5lCVvF6v5syZE/CF8PDhwzVp0qSAlx74fD7t2LFDX3zxhX7++Wft2bOn0n1FLMtSUlKSTjrpJJ1xxhlq1apVwJ+vlMfj0caNG7Vs2TKtWrVK6enpcrvd5s0kSQkJCerfv79OO+00denSpcqZQjVV+jz88MMP+uWXX7R9+3ZlZ2ebN5MkuVwutWvXTmeeeaYGDx4ccEGmktJhxowZWr9+vTnkt8aNG+vBBx9UixYtzKFqFRUV6YknntDPP/9sDgWkSZMmuueee/TCCy/ot99+k2VZSkxMVI8ePTRs2DD16dNH4eHh5e7z73//W6+88opUUjK2b99egwcP1oABA9S0adNyt62JgoICLV++XAsWLNDu3bvLlUCWZemkk07SjTfeqJiYmHL3q47H49GqVau0bNkyrVmzRpmZmeZN5HA41KpVK40YMUKnn3664uLizJsE9P8nzZs31z/+8Q81btzYHAIAICAULgBQQxQuofXss88GVIBYlqUJEybo1FNPNYf8snbtWj3yyCOVFh8V6dSpk+69916/N989cOCAPvjgAy1durRGsyQsy1Lnzp01YcIEtWvXzhyuVG0/b9OmTXXppZdqyJAhQSleSr+e5cuXV1qwVCUiIkIXXnihxo4de1ixUJXdu3frvvvuq/VynqlTp2rgwIHmULWWLFmiOXPm+DUjpSpdu3bV3XffrRdeeEErVqwwh+VwONS7d29deeWVZa+Tb7/9Vk8++aR5U6mkYBg/fnyNfr55eXn66KOPtHDhwmpfWyNHjtQNN9zg14lJgTzuoSIiInT11Vfr1FNPLSsmbdvW008/XeFzVZGePXvqrrvuUkREhDkEAEBAAntXBQCgDuTn52vPnj1mXKV+/fpp6NChZuy39u3bq3Xr1mZcpYyMDOXk5JjxYbKzs/Xiiy9qwoQJWrRoUUAXkIeybVsbN27U7bffrnnz5lW7VKOoqEjvvfeeJk+eXKvPu2/fPj3zzDOaNm2atm3bZg77zXwealK2qOQEq5SUFN17770BvU7S09OVl5dnxgGxbbtGS8nS09P1wQcf1LpsUcmyOZUUVxXx+XxatWpVuddJVSXTnj179Mwzz+iee+7xe6Nqn8+nL774QhMnTtT8+fP9em39+OOP2rVrlxmXY9u2li1bFtDjHqqwsFAvvPCCPvzww7LnOisrS1u3bjVvWqk2bdpQtgAAgoLCBQBQ7+Tl5QW0wWVkZKTOO++8gGY7mGJjY9W2bVszrlJBQUGV+0KUXpROnjxZixcvDtreKD6fT/Pnz9cLL7xQaemybds23X777UpJSQlo1k5VNm3apLvuukv//e9/AyoOfD6fli5dqptvvjmoz8OmTZs0ffp0vwuQ7du3+/1cVLUx7ebNmwM66ci2bb3//vvVlg3+8vcEHZ/Pp3fffVcrVqzwa6+TDRs2aO7cudV+b9u2bdO0adP07LPP+lU4lsrKytKOHTvMuExBQYFmzZqlWbNmBfS4Jp/Pp7fffltff/21VFJ2VbQUqTJdunQxIwAAaoTCBQBQ7+zevTugC64uXboEvG9LRY477jgzqlLpRqQVKSgo0LPPPqvZs2cH9L0E4osvvtCCBQsOKz9+/vlnTZ8+PWgX+IcqLCzUyy+/rIULFx72eSuSnZ2tp556Ss8991ytZ5dUZP/+/Xr66af9On1o48aNZlSprl27qmPHjmYslcwsCWTmRTA2yj1UmzZtlJ+f79dsFNu2tWrVKqWlpZlDFdq8eXOlJWJRUZHmz5+vO++80++Sy1TZ15Genq77779fy5Yt8+t1VR23263U1FTt3btXu3fv9qtwUsn+NoEs1wMAoCoULgCAeieQmQiS1L9//1rNbimVlJTk18yB6mRnZ+uxxx7z++IxIiJC/fv319/+9jdNnDhRw4YNq3DjT5Nt2/rkk0/KLfNZv369Zs6c6fdyHYfDoU6dOik5OVkTJ07U0KFDq11O4Xa79dZbb5XNIKjM3r17dd999+m7777z63k49Gu57rrr1L9/f7/2FElLS9OcOXOqLEHy8/MrvdivSLdu3SpdYubvUjKVvBZef/11FRQUmEM1Eh0drWbNmikzM9PvAmvv3r2VLj8yFRUVVfi7l5GRoYceekjz5s2rdKPlmtq7d69mzJgRUInjcrnUs2dPnX/++ZoyZYquu+46nXLKKWrSpEnZbdLS0vTuu+/ql19+KXffqiQkJJR7DAAAaqP6v8UAAFDHApmJEBUVFZTZLSq52IqKijLjgOTm5urJJ5/UmjVrzKHDuFwu/fWvf9XLL7+sadOmacyYMRo5cqRuueUWPf/88xo9enS1BdDBgwf1+eefSyUXrs8++6zfZUv79u31xBNP6LHHHtOFF16okSNHasqUKXrqqafUqVMn8+bluN1uzZ07t9ISo/QiuqolJKUsy9KAAQM0e/bssq9l1KhRmjZtmqZPn+5X+bR27Vp98803Zlzm4MGDfi9TsyxLXbp0UZs2bcwhyY+lZKVs29aHH34YUJFQnbi4ODVp0kQHDhzwu3Bxu91+zYZRSeFiPm7pUrJff/21XF4TLVu2LPfn3NxczZ4926/XiUrKyb/+9a969dVX9cADD+iyyy7T0KFDNWrUKE2aNElz5szRXXfdpfj4eEnS0qVL9eWXX5oPU6mWLVv6vQk2AADVoXABANQrgc5EaNSoUVCOtQ0Gj8ejuXPn+nVh6nK5dPPNN+viiy+u8Ijj8PBwXXrpperWrZs5dJjff/9dmZmZSk1N9fu569mzpx544IEKl080b95cN910U9lFa2UyMjL07rvvHrbnx969e/XII4/49bVYlqXzzz9ft912W9lmsIfq0aOHxo0bV23xZNu2FixYUOleHbt37/arJFFJqdGqVSu1adOmws9b1VKyQ/3888/65JNPzLhWWrRooZiYGO3YscOvWUMqeV1W9ryYoqOjlZCQUPbnn3/+WTNmzND+/fvL3a4mnE6noqOjy/4cyO+LSmag3XfffZX+zqjk9XTCCSdo6tSpiouLk8/nq3Sfo4p069at0r17AAAIFIULAKBeCWQmgg65AK0PPv74Y7/26rAsSxdffLEGDx5sDpUTFRWl008/3YwPs3//fn333XdVzvA4VGmhUtXz1r59e5111llmfJgff/xR27dvL/uzx+PRv/71L79mLJSWLZdcckmVRwWffPLJh82MqMjOnTu1atUqM5Ykbdmy5bBiqDJJSUlKTEyscsZTdd/f3r179dprr1W7/CYpKcmv761U+/bt5XK5tHnzZnOoUhEREYfNWvHHihUr9OSTT5bNmHI4HBo6dKgee+wxzZ49W0OGDDHvUqWYmBglJiaW/XnZsmV+/b6oZObJfffd5/dsti5dumjEiBFmXKWIiAg2zAUABBWFCwCgXglkJoJKyoNg7N9SExEREWXLD/74448KN7CtyKBBg3TuuedWOHvC1LRpU7/2VFmyZEm1F/cqKTnOPvtsNW/e3Bw6zKBBg9SoUSMzLic7O1u//fZb2Z8XL16s77//vtxtKtOvXz9dfPHFVZYtktS4cWMNHDjQjA9j27a+//77w4oVr9er33//vVxWlbZt2yo2NlaJiYmVllJV7YlSWjpVN8PH6XRq5MiRfu/vUrrUKTc3V7t37zaHK2U+H1Vp3LixoqKitGLFCj377LNl+7nEx8frrrvu0pQpU9SpUyc1a9ZMZ599dqWFVEXi4uLKZk2lpaUpJSXFr9+XuLg43XzzzQEVU5ZlqXv37mZcpdjYWLVo0cKMAQCoMQoXAEC98scffwR0gRjMf5HOzMyscuNVU1hYmKKiouTxePTee+/5tXdKdHS0LrjggmpLhlIul6vajWNt2652xkWpli1b6uSTTzbjCrVo0aLSk3oOVbrnTlpamt5//32/LqIbN26sq6++2u+yzN+ZDRWdspOTk1Nt+XGo0tOqoqKiKt1AtbIZI6VLm/wpnYYMGaLOnTsf9vVWpnSp04EDBwJa4lNUVGRGlQoLCysrW0oLvDZt2ugf//iH+vXrV+62DofDr9KwVOn+KLZta+HChX4ty7IsS2PHjg3q73ll2rRp49d+QQAA+Kvqv8EBAFCHvF5vwBvmtmrVyoxrbP/+/X6VBaViY2PVuHFjrV69Wj/99JM5XKHSi2x/7dq1q9oSKCwszO9ZEr1791bjxo3NuELh4eHq0aOHGR/G6/WWFQ3+XkRfcMEFAc1YaNKkSbn9PyqTnZ192Aaxe/bsqXJGyqEiIiLUtm1bSVJkZGS5JTCH2r9/f4U/l6+//lrz58+v9nXUuHFjjRs3TuvWrfO7YGzRooWaNm2qXbt2+VXuqeT78bfQUcnSq1deeaWsbOnUqZPuueeeCn9We/furbR4qkjHjh3ldDq1detWrVixwhyuUMeOHfWXv/wloGKn1B9//GFGVWrfvr3fBSAAAP6gcAEA1BuBzkSIjo6udAZCTRy6F4k/WrRoocjISP33v//1azmP0+nUSSed5PfFY35+ftkJRFXxd5NPy7LUp08fM65S+/bt/fp6t27dqm+//daMK9SxY0cNGzbMjIMiLy/vsMJl06ZNFZYjFUlISCgr8SzLqvRoaJ/PZ0Zav369Xn755WpfC6WFU5MmTbR161ZzuFIdOnRQVFSUNmzYUG2hUyrQ/Vvy8vLKvv6WLVvq73//e6W/Y4EUGk6ns2yW0ooVK/wqjCzL0ujRo2s06yQ3N1erV6824yoFUoQCAOAPChcAQL0RyEwElezfEqwjXPPz87VlyxYzrlL79u21Z88erV271hyqUPv27cuWq1TH5/Np4cKF1e49EhYW5lchopKCqlmzZmZcpcTExCpnlliWpR49evh9ES1Jw4cPr9FFtL8OLe1s29a6devKjVfF3IS5sj1sMjIyypU469ev16OPPurXc9CvXz+dfvrpOnDggLZt22YOV6pLly7Kz8/X+vXrzaFKxcTEBLSkqFTpvimVvV6KiooCKosaNWqkFi1aKCMjw+9iLikpSX379jVjv/z2228BbSwcExPD/i0AgKCjcAEA1BuBzESQnxvK+mvnzp1+74OiQ4qG3377za+LbJXsDeJPQZSXl6cXX3xRb7/9drUzGfr27VvhbIuKmEf++qNx48ZVfs0DBw7U8ccfr19++cUcqlDTpk2rPZ2ptg5dopOVlRVQMWAuK0lKSqqw0CosLFROTo5UUvA8++yzfr0O4uPjdfnllys8PDygDaIbNWqkTp066eDBg9qzZ485XCl/XxuHcrlcuvbaa6vcNyc7O1u7du0y40q1a9dOiYmJ2rp1q99ff/fu3Std0lUVr9erpUuX+r1USyUzmyqbyQMAQE1RuAAA6oVAZyLokM1Ng+G7774LaOlFYmKiWrdu7XfR4M9ynoKCAi1YsEATJ07U559/Xm3Z0rJlS51xxhnyeDzmUIVKT6AJRGRkZIV7vsTHx+vmm2/Wbbfdpn379mnnzp3mTSrUr1+/Gl1EFxYWBnQBXWrHjh1+bzDrdDoP+xlVNsPH7XaroKBAaWlpeuSRR/xaCmdZli666CK1b99ekrR69Wq/v6fSo6q3bNmizMxMc7hClmUFVGCWGjNmTLWlWCBlkST16NFD4eHhAX3Pffv2rbDsqs727dv9nnVWqnRDXwAAgonCBQBQLwQ6E8HpdAZtCUAgyxxKdezYUS6Xy+99XxISEtShQwczVkZGhpYsWaLp06fryiuv1Ouvv142c6IqLVu21LRp0yosQypT3WlHFYmKitKAAQM0cuRInX322br11lv1/PPP66WXXtKIESPkcDi0ffv2suODq2JZlvr161eji+iDBw/69TlUsjyklL9fmw5Z9nKoymb45Ofn65dfftFDDz3kV9mikmO2//KXv0g1WJJTelT16tWrqy3iSsXGxvq9mXKpTp066bzzzqv2Z7Rhwwa/n9eIiAh17949oO85Ojpabdq0MWO/BLK8rVTphr4AAART4H/zAgAgBPbt2+fXCTelKro4rqlvvvnG74tmlRQHgwcPVlZWll/liEou3HNycvTVV19p7ty5mjZtmi6//HJdf/31eu6557R27Vq/l3/07NlTDzzwQIUnx1QlIyMj4AtwSTr//PM1ceJEXXXVVRo8eLCaNGlS7oLc35OlSo81rolAlnuVllCBzppq2bLlYQVWVXt7vP32234vj2nevLmuuOKKsuPAs7OzA/qeevfuHfA+Q4Hu3+JyuTR+/Phq99fxer3V7i10qKSkJLVp00a5ubnavXu3OVyhmJiYGs2E2rdvn77++mszrpJlWerUqZMZAwBQaxQuAIB6YceOHQEt6als5kGg9uzZo4ULF/o9a0AlF5C9evXSgQMH/P6aN23apGnTpunpp5/WwoULtXHjRr9nCJSKiIjQFVdcofvvv7+sGIiNjfV7HxuPx+N3qeOvwsJC7du3z4wrFBcXp/j4eDOuVlFRkd8bxcbExKhp06ZSDWZNtWnT5rDnMjw8XM2bNy+XBcrlcunSSy8t9zjbt2/3e2lQ6fHn+/bt87uwUEnhFIgTTjjhsCVVFcnMzAzoeS1drpORkeF3QelwOKqdZVORb7/9NqDnSCWvy8o2BwYAoDYoXAAA9cKaNWvMqErmaTI14fF4NH/+fL9nKZQaMmSIEhMT5fV6A76orQmXy6VRo0Zpzpw5Ouecc8otDYqNjT1sVkZlcnJyAr4YrY7P5/O7xImPj1dkZKQZVyuQ03wO3fw00FlTXbp0MSNJUq9evczIb5Zl6eKLLz5sT5T169f7vZdJo0aN1LRpU+3du9fvpTJOpzOgQi8yMlLnnHNO2Qycqmzfvj2g08T69esnp9Mpn8/n9+9L48aNA36tZGRkaPHixWZcrdL9cQAACDYKFwDAEZeTk+P3XiilWrduXaN/AT/Ud999p6+++sqMqxQXF6dhw4bV+nP7o0mTJkpOTtbLL7+s6667rsKlHlFRUX5fLBYWFuq3334z4zqTmJh42AwSf6xfv97v2SCdOnUqO8o5kFlTVe0Z0qZNm0qPh67OiBEjdO6555Z7vQQyY0eHlIvr1q3zu7CIjo4OaPlYly5d/F5WE8jGt1FRUX4/7qHS09MD3vD3v//9b0AnJ5VKTEwMeDNpAAD8QeECADjiDhw44PdJMqVKT3qpqXXr1unll1+W2+02h6o0ZMiQWn/uyrhcLnXu3FmXXXaZnn32Wc2ZM0cXXnhhhafklHI6nerXr58ZV+qHH35Qbm6uGddbRUVFWrp0qV9Fg9Pp1NChQ8vKjQ0bNpg3qVRcXFylxwK3aNFCHTt2NONq9ezZU1ddddVhs0YC2ctEh7zWA1nGExcX53fhYlmWRo4cWe447Mrk5+cHVBaVzs4JlMfjCWj/mbS0NH366adm7JdWrVqxYS4AICQoXAAAR1wgSyVU8q/m/i6jqci6dev0xBNPBPQ5VbLM4eyzz67R7Ban06n+/ftr5MiR5T7+9re/adq0aXrhhRf0xhtv6NFHH9X555+v5s2b+/15jjvuuCpLmUNt3rzZ76Os64P169f7XZy0bNlSnTt3lkqKAX+XIamaJWrh4eE65ZRT/P55SFK3bt00ZcqUCh9z165dfs/YkaTOnTsHXNIEciJVQkKCunbtasYVOnjwYEBL8Nq2bVuj2UF5eXlKT0834wp5PB698847ZcvHAi1P2rZta0YAAASF/+/GAACEyNatW/2awVAqOjq60tkIVbFtW998840effTRgMsWy7I0ZsyYcicDNWnSxO+iw+v1qm3btrrppps0ceLEso8xY8aof//+SkxMDOgi+VDt2rUrKxqq4/V69eGHHwb8/VfG6XT6vUwokD08VHIhvWjRIr9napx++ulKSEiQalAMNG/evMoZHkOGDNGIESPMuEIDBw7UHXfcUWkpGMhR1VFRUUpKStK+ffuUlZVlDlfK4/GYUaU6d+7s9yyU3bt3B/R1HHrccnh4+GGzfSpTWFiozZs3m3GFvv76a61YsUIqKUVPOukk8yaVioiI8Pt7BwAgUDX7mx0AAEFi23ZAMxFUsvmqvxf5pYqKipSamqp//vOffu/rcahevXrpzDPPLJc1adKkwn1VKrN48eKAlmNUZ/fu3SoqKlJ4eLhGjhzp9wyMTZs2ad68eQGVH5UJDw/3+7SoAwcO+F2eqGSvkJ9++smMK9SmTRsNGzas7M+BFgPVXXSHhYXpqquu0qBBg8yhMhEREUpOTtbf//73Kl8X/h6jrUPKxV27dvm9p4nT6QzoNX5oKVKdLVu2+L1/i0p+LqXi4uIC2itl2bJl1RaDf/zxh1577TV5vd6yUjSQ4jIiIqLKnxUAALXh/zsSAAAhUFBQENCJJyq5cKtqNsKhbNvWL7/8oltvvVXvvfee3yfqHKpx48a6/vrrD7tYjImJUYsWLcplVcnLy9Ps2bO1d+9ecyggPp9PCxYs0AsvvFB28TtgwAC/Z7moZIPR5cuX17p02bZtm98nTO3bt8/vIiA7O1upqal+7bHjdDp14YUXls1uUUnh4m8xYFlWpRvmHiomJka33XabHnnkEZ1//vnq37+/mjdvrpNOOknXXXdd2Z47Vc3iyM/PV1pamhlXqrRcDOQ1ExUV5ff+J5ZlBbSpbSD7yJTOzikV6O/L5s2btXjx4kpfo+np6XrxxRfLSpmuXbvqtNNOC6jUi4iI8LswBAAgUBQuAIAjqqCgIKCje1Wy50R1hYtt2/r9999111136aGHHgpoecmhXC6XrrrqqnJLiUqFh4dr4MCBZlyltLQ0zZw5M+DvudS2bds0bdo0vf7664qNjS17HmJiYnTeeefJ5XKZd6mQ2+3WnDlztHjx4hqVULZt66efftKDDz6ogwcP+jVLIDMz06/TqDwej/7v//5PmzZtMocqNHz48MOOXfbn85SKiooqV9ZUxeFw6LjjjtNll12madOm6dlnn9Vtt92mUaNG+fUcBLI3iUqOa3a5XAGVNA6Hw+/SIZDvPT8/P6DNrc2lf+Hh4QFtOG3btubPn19hMbhz50498sgjZa+RyMhIjR8/Xi6XSzk5OeVuW5XGjRsfVqQCABAsFC4AgCPKtu2AL/grKj9KZWdn69///rcmTZqke+65Rxs3bjzsYs1fLpdLEyZMOOxi/lAnnHBCwPvJlBZB33zzjV/fu8/n05YtW/Too4/q9ttv16ZNm+R0OjVy5MhyS0EGDhyooUOHlrtvVdxut15++WX94x//0ObNm/1+nvbt26fnn39ejz76qA4ePCin06nWrVubNzuM1+vV4sWLq9xfxLZtLViwQF988YU5VKE2bdrosssuO2xWib8zaVTHsxwyMjL8XhqkkiOLw8LC/C5QVDIDzF8xMTF+HyseqLCwsMOW9/Tv3z+g5YBut1uzZs3SPffco08++URLly7V448/rltvvbXcbJsRI0aoV69eUsnvi7/Mrw8AgGDiXQYAcEQ5nc5qZ6uYDi04fD6f0tLS9N5772ny5Mm65ppr9Morr9R4Rkspl8ulq6++WsOGDatyb5TmzZvrL3/5ixlXa//+/Xrqqad01VVX6ZlnntHSpUu1fv16HThwQDt37tQ333yj9957T4888oiuuOIK3X777Vq5cmXZxWSfPn3Up0+fco9Zus9Iz549y+VVsW1ba9as0dSpUzVhwgQ999xz5b6W9PR0/fjjj1q6dKmee+65sk1///vf/5Z9LQkJCRo1apQiIyPNhz/MTz/9pO+++86MpZKZLSkpKUpNTfWr/GnZsqWmTZt22AyNQGdihIWFBfwarCvR0dEqKioKaNZGfdG4cePDXhMdOnQI+FQg27a1fv16vfbaa5o9e7a+//77cqVKmzZtdPHFF8uyLOXn5wc0eywiIsLv/WsAAAgUhQsA4Igy93nwx9atW/Xmm2/qzjvv1OWXX67JkycrJSVFaWlpfl2oVyc6OlqTJ0/W6aefXmXZUmrUqFEB7YNxqPz8fC1fvlyzZ8/W3XffrRtuuEFTpkzRU089pZSUFP3444+HnWgTFxen8ePHV1gSxMTEaOLEiVXOAqpMenq6lixZUu5rufHGG/XII49o9uzZWrJkifbt23fYczxw4ECdfPLJ6tu3b7m8Im63Wy+88IKWLl1adtHs8/n066+/6u6779b7779/2ONXJCkpSVOmTFGzZs3MITkcjqNm5kJiYqIiIyNDNgulrsXExGjUqFF+/V75IzIyUtdcc81hpZu/AtkPCgCAQB0dfxsBADRY4eHhOv744824Sh9//LE++OAD/fHHH35tqhqI5s2b6+6779bJJ5/s90VhXFycrrnmmoCWctSUy+XStddeW+UGuc2aNdM999zj10awtdWzZ08lJyfL5XLpkksuUXx8vHmTw5RuHnz55Zfr+uuvV3Jysu6//36/92xp06aN7rvvvkpLrvp81G9sbGxAS2pUsrFtIEueajJrzB/BKn5OPPFEde3a1YwDZlmWLrjggrKlRCr5/5NAfg8LCgr83lwZAIBAUbgAAI64YcOG1Uk5UBXLsjRs2DA9/vjjNboY7Nq1q26//faALvYC5c+eMqWaNWumBx98MOBNfQPRsmVLTZw4UTExMZKk9u3b6+qrrw5o496MjAy/99wo/Rk99NBD1c7g6d27txnVC4mJiWrXrp0ZV6q0DOjTp4/fBWBYWJgaNWpkxhXKzc31+5Qwy7LUo0cPMw5YTEyMrrjiilr/rowYMULnnntuueclNjZWxx13XLnbVSUnJ8fvE50AAAgUhQsA4IhLSEjQuHHj/L5QD7bSWS2TJ09WdHS0Oey3Hj16aPr06WrVqpU5VGvx8fG64447NHz4cL8vvOPi4nT77bfr5ptvDmiGhD+aN2+u22677bAlPYMHD9ZNN90U8CyO6gT6M+rRo4ffmxkXFhbW2R4pgc7oKj2dqGPHjn7PLjl48KC6d+9uxhXKz89XZmamGVeqe/fufhcl6enplW4Q3LVrV1177bU1/p3v2bOnrrrqqsM2S1bJxrz+7suSnZ1N4QIACBkKFwBAvTB48OCAZkcEQ9OmTXXLLbdo5syZ6tevn99FRlXatWunJ554QsnJyUEpHRwOh/7yl7+UfY2BcjgcGjFihGbPnq0xY8bU+muyLEsnnniiHnnkkQpnapTOQrnvvvvUvHlzczhg8fHxmjhxop5++umAfkbNmjXTsGHDzLhCgczyCIZAZnTt3btX+fn5at68uUaPHu3X95+ZmamuXbv6VYzYtq1169aZcaXat2+vIUOGmHGFcnJyqty8eMiQIbr11lsDKgMty9Lw4cM1bdq0splVpp49e/o9Eyc7O1sHDx40YwAAgsI5ffr06WYIAKjeokWLKj1tpaY6dOigq666yoyPCZZlqVOnTuratavWrl0b0LG+gXA4HOrTp49uuukmXXHFFWrfvr1fF7GBcDqd6tGjh0aPHq2oqCilpaVV+i/9lXG5XBo2bJhuu+02jRgxotZFlMvl0gknnKAxY8aoWbNm2rVrl3Jzc82bVcrlcmnIkCG65ZZbdNZZZ1Vb3DRp0kRnnHGGkpKStHHjxsM2/q1KRESEBg0apOuuu05/+9vf1LFjx4A3wbUsS507d9bOnTu1a9cuc7gc27aVlJR02KlPoRIZGanOnTvrhx9+qPZ5KSoq0sCBA5WQkKAOHTpo37592r59u3mzcmzbVtu2bXXGGWfop59+qnaPErfbrZNPPrnan6lKntdu3bpp06ZN1Z4E5vF41LZt2yqX6LVq1UrDhg1TVlaWduzYUeWGyfHx8br22murnQ3ncrnUs2dPrVq1SllZWeZwOUVFRerdu7ffBRgAAIGw7Kre2QAAlZo8ebJmzZplxrUycuRILVmyxIyPOXl5efroo4+0cOHCgIuKisTExKhPnz4aOXKk+vTpE5INRauTlZWljRs3at26ddq/f/9hG/5GR0erQ4cOat26tQYMGKDWrVtXuFwimPLz87V9+3atWbNGO3fu1JYtW8qKLpfLpc6dO6tLly7q1atXrb4en8+nHTt2aM2aNfrjjz/KfZ7S7zsuLk7dunVT165dlZiYGLQSzLZt7dq1S0uXLtWaNWuUlpam3NxcuVwuNW7cWF27dtWwYcOOyOuiqKhIq1ev1vLly/X7778rPT1dPp9PMTExatKkiY4//niddtppatWqVdnzUfr9fPvtt/r+++/Lvh+Hw6H4+Hh17txZQ4cO1cCBAxUZGans7Gz98MMP+u6777RhwwZlZWXJtm3FxcWpefPmOumkkzR06NCANxn2+XzasGGDvvzyS61atUrp6elyu91lX0e3bt0C/n0r/Vp//vln/fHHH/J6vXI6nerSpYuGDx+uvn37BvQa9Hg8WrVqlZYtW1bu+XW5XGrSpIn69u2rU045RV26dAm40AMAwB8ULgBQQxQuoefxeLRz505t3bpVmzZtUm5urnbs2FHpnhNOp1MdOnRQfHy8unTpog4dOqh58+aKiooybwoAAACEFIULANQQhQsAAACAyjB/EgAAAAAAIMgoXAAAAAAAAIKMwgUAAAAAACDIKFwAAAAAAACCjMIFAAAAAAAgyChcAAAAAAAAgozCBQAAAAAAIMgoXAAAAAAAAIKMwgUAAAAAACDIKFwAAAAAAACCjMIFAAAAAAAgyChcAAAAAAAAgozCBQAAAAAAIMgoXAAAAAAAAIKMwgUAAAAAACDIKFwAAAAAAACCjMIFAAAAAAAgyChcAKCGoqOjzajW9uzZY0YAAAAAGiAKFwCooaZNm5pRra1bt05FRUVmDAAAAKCBoXABgBoKReEiSatWrTIjAAAAAA0MhQsA1FCoCpelS5eaEQAAAIAGhsIFAGooVIXL4sWLzQgAAABAA0PhAgA1FKrC5bPPPtPKlSvNGAAAAEADQuECADUUqsJFkl588UUzAgAAANCAWLZt22YIAPBPz549tW7dOjMOih9++EEDBgwwYwAAAAANADNcAKAWLrjgAjMKmiuvvNKMAAAAADQQFC4AUAtnn322GQXN2rVr1bt3bzMGAAAA0ABQuABALQwZMkTt27c346BZu3atTj31VOXk5JhDAAAAAOoxChcAqKWxY8eaUVAtXbpUZ555pj7++GNzCAAAAEA9ReECALV02mmnmVHQrVixQuecc47OPfdcihcAAACgAeCUIgCopczMTPXu3Vs7d+40h0ImKSlJp556qk488UQ1b95czZs3V3h4uHkzQCpZ+sbrAwAAoG5RuABAEDz22GO68847zRioN0aOHKnBgwdrwIABuuiii8xhAAAABBmFCwAEQV5enk466SStWbPGHALqnZEjR+rxxx/XoEGDzCEAAAAECXu4AEAQREdHa9KkSWYM1EtLly7ViSeeqKlTp5pDAAAACBJmuABAEJ1yyilatmyZGQP11m233aYnnnjCjAEAAFBLFC4AEERvv/22/vrXv5oxUK/9/PPP6tevnxkDAACgFlhSBABBdMkll+jCCy80Y6BeY2kRAABA8FG4AECQPfPMM+revbsZA/XWZ599punTp5sxAAAAaoHCBQCCrE2bNnruuefMGKjXVq1aZUYAAACoBQoXAAiBU089Vc8//7wZA/UWhQsAAEBwsWkuAITQbbfdpqeeesqMgXpp//79atKkiRkDAACgBpjhAgAh9OSTT+rcc881Y6BeWr16tRkBAACghihcACDEPvzwQ02cONGMgXqnd+/eZgQAAIAaYkkRANSRd999VxdffLEZA/VChw4dtHnzZjMGAABADTHDBQDqyEUXXaQVK1aoRYsW5hBwxPXt29eMAAAAUAsULgBQhwYPHqyvv/5ao0aNMoeAI6p79+5mBAAAgFpgSREAHAFFRUWaMWOG5syZo/3795vDQJ1q3ry5vv76a3Xs2NEcAgAAQA1RuADAEbRlyxY999xzmjNnjnJycsxhoE689NJLuvbaa80YAAAAtUDhAgD1wG+//VZWvHg8HnMYCJnk5GS99dZbZgwAAIBaonABgHrkp59+0ty5c/XZZ5/pt99+M4eBoHrooYd01113mTEAAACCgMIFAOqpZcuWaeHChfr000/1888/m8NAjfXu3VvPP/+8hg4dag4BAAAgSChcAKAB2Lx5sz7++GP9/vvv2rlzp3bs2KGdO3cqLS3NvClQobZt26p3797q3bu3pk6dqqSkJPMmAAAACCIKFwAAAAAAgCBzmAEAAAAAAABqh8IFAAAAAAAgyChcAAAAAAAAgozCBQAAAAAAIMgoXAAAAAAAAIKMwgUAAAAAACDIKFwAAAAAAACCjMIFAAAAAAAgyChcAAAAAAAAgozCBQAAAAAAIMgoXAAAAAAAAIKMwgUAAAAAACDIKFwAAAAAAACCjMIFAAAAAAAgyChcAAAAAAAAgozCBQAAAAAAIMgoXAAAAAAAAIKMwgUAAAAAACDIKFwAAAAAAACCjMIFAAAAAAAgyChcAAAAAAAAgozCBQAAAAAAIMgoXAAAAAAAAIKMwgUAAAAAACDIKFwAAAAAAACCjMIFAAAAAAAgyChcAAAAAAAAgozCBQAAAAAAIMgoXAAAAAAAAIKMwgUAAAAAACDIKFwAAAAAAACCjMIFAAAAAAAgyChcAAAAAAAAgozCBQAAAAAAIMgoXAAAAAAAAIKMwgUAAAAAACDIKFwAAAAAAACCjMIFAAAAAAAgyChcAAAAAAAAgozCBQAAAAAAIMgoXAAAAAAAAIKMwgUAAAAAACDIKFwAAAAAAACCjMIFAAAAAAAgyChcAAAAAAAAgozCBQAAAAAAIMgoXAAAAAAAAIKMwgUAAAAAACDIKFwAAAAAAACCjMIFAAAAAAAgyChcAAAAAAAAgozCBQAAAAAAIMgoXAAAAAAAAIKMwgUAAAAAACDIKFwAAAAAAACCjMIFAAAAAAAgyChcAAAAAAAAgozCBQAAAAAAIMgoXAAAAAAAAIKMwgUAAAAAACDIKFwAAAAAAACCjMIFAAAAAAAgyChcAAAAAAAAgozCBQAAAAAAIMgoXAAAAAAAAIKMwgUAAAAAACDIKFwAAAAAAACCjMIFAAAAAAAgyChcAAAAAAAAgozCBQAAAAAAIMgoXAAAAAAAAIKMwgUAAAAAACDI/j+U2s9BlRDTkQAAAABJRU5ErkJggg==)"
      ],
      "metadata": {
        "id": "egVrDwoEAy74"
      }
    },
    {
      "cell_type": "markdown",
      "source": [
        "# **DecoMind:**It is a system that assists individuals in designing their rooms or visualizing furniture within their space before completing a purchase.\n"
      ],
      "metadata": {
        "id": "WAHes0yQB7Xh"
      }
    },
    {
      "cell_type": "code",
      "source": [
        "# Install required packages\n",
        "!pip install rembg\n",
        "!pip install onnxruntime\n",
        "!pip install clip\n",
        "!pip install --upgrade diffusers\n"
      ],
      "metadata": {
        "id": "C11MqwDH3igN"
      },
      "execution_count": null,
      "outputs": []
    },
    {
      "cell_type": "code",
      "source": [
        "#import the necessary libraries\n",
        "import os\n",
        "import random\n",
        "import numpy as np\n",
        "import cv2\n",
        "from PIL import Image, ImageDraw, ImageFilter\n",
        "import torch\n",
        "import os\n",
        "from transformers import CLIPProcessor, CLIPModel\n",
        "from torchvision import models, transforms\n",
        "from PIL import Image\n",
        "from concurrent.futures import ThreadPoolExecutor\n",
        "from rembg import remove\n",
        "from diffusers import StableDiffusionPipeline, ControlNetModel"
      ],
      "metadata": {
        "id": "k60JwmXsEFWQ"
      },
      "execution_count": null,
      "outputs": []
    },
    {
      "cell_type": "code",
      "source": [
        "!unzip -q '/content/ikea_filtered.zip' -d '/content/unzipped_data/' #the dataset of the store"
      ],
      "metadata": {
        "id": "nevCbJXT6UTG"
      },
      "execution_count": null,
      "outputs": []
    },
    {
      "cell_type": "code",
      "source": [
        "# Remove the background of the images of furnitures\n",
        "def remove_background(image_path):\n",
        "    with open(image_path, \"rb\") as i:\n",
        "        input_image = i.read()\n",
        "    output_image = remove(input_image)\n",
        "    out_path = f\"removed_{os.path.basename(image_path)}\"\n",
        "    with open(out_path, \"wb\") as o:\n",
        "        o.write(output_image)\n",
        "    return out_path\n",
        "\n",
        "\n"
      ],
      "metadata": {
        "id": "XKrnddLdfEub"
      },
      "execution_count": null,
      "outputs": []
    },
    {
      "cell_type": "code",
      "source": [
        "# select the suitable furnitures from the dataset\n",
        "def select_furniture1(folder_path, room_type, style, furniture_types, top_k=3):\n",
        "    \"\"\"\n",
        "    Selects relevant furniture items based on room type, style, and specified furniture types.\n",
        "    Ensures that each furniture type has a unique image.\n",
        "    \"\"\"\n",
        "    # Load the CLIP model and processor\n",
        "    device = 'cuda' if torch.cuda.is_available() else 'cpu'\n",
        "    clip_model = CLIPModel.from_pretrained(\"openai/clip-vit-base-patch32\").to(device)\n",
        "    clip_processor = CLIPProcessor.from_pretrained(\"openai/clip-vit-base-patch32\")\n",
        "\n",
        "    selected_paths = []  # List to store selected furniture paths\n",
        "\n",
        "    # Iterate over each furniture type to select the best matching image\n",
        "    for furniture_type in furniture_types:\n",
        "        # Create the prompt for the current furniture type\n",
        "        prompt = f\"{style} {room_type} {furniture_type} furniture\"\n",
        "\n",
        "        # Tokenize and process the text using CLIPProcessor\n",
        "        inputs = clip_processor(text=[prompt], return_tensors=\"pt\", padding=True).to(device)\n",
        "\n",
        "        # Collect all files in the directory\n",
        "        image_paths = [os.path.join(folder_path, f) for f in os.listdir(folder_path)\n",
        "                       if f.lower().endswith(('.png', '.jpg', '.jpeg'))]\n",
        "\n",
        "        # List to store image features and similarities for this furniture type\n",
        "        furniture_dict = []\n",
        "\n",
        "        # Iterate through all images and calculate their similarity with the prompt\n",
        "        for path in image_paths:\n",
        "            try:\n",
        "                # Load and preprocess the image\n",
        "                image = Image.open(path).convert(\"RGB\")\n",
        "                image_input = clip_processor(images=image, return_tensors=\"pt\").to(device)\n",
        "\n",
        "                # Get image features from CLIP\n",
        "                with torch.no_grad():\n",
        "                    image_features = clip_model.get_image_features(**image_input)\n",
        "\n",
        "                # Get text features for the prompt\n",
        "                text_features = clip_model.get_text_features(**inputs)\n",
        "\n",
        "                # Normalize the features (important for cosine similarity)\n",
        "                image_features = image_features / image_features.norm(p=2, dim=-1, keepdim=True)\n",
        "                text_features = text_features / text_features.norm(p=2, dim=-1, keepdim=True)\n",
        "\n",
        "                # Calculate cosine similarity\n",
        "                similarity = torch.cosine_similarity(image_features, text_features)\n",
        "                similarity_value = similarity.item()\n",
        "\n",
        "                # Append the image path and its similarity\n",
        "                furniture_dict.append((path, similarity_value))\n",
        "\n",
        "            except Exception as e:\n",
        "                print(f\"❌ Error processing {path}: {e}\")\n",
        "\n",
        "        # Sort the results by similarity\n",
        "        furniture_dict.sort(key=lambda x: x[1], reverse=True)\n",
        "\n",
        "        # Select the best match that has not been selected before\n",
        "        for path, _ in furniture_dict:\n",
        "            if path not in selected_paths:\n",
        "                selected_paths.append(path)\n",
        "                break\n",
        "\n",
        "    # Debugging information\n",
        "    print(f\"Total paths found: {len(image_paths)}\")\n",
        "    print(f\"Paths before limit: {image_paths}\")\n",
        "    print(f\"Final selected furniture paths (top {len(furniture_types)}): {selected_paths}\")\n",
        "    print(f\"Length of selected paths: {len(selected_paths)}\")  # Debugging print to ensure correct selections\n",
        "\n",
        "    return selected_paths  # Return only the selected image paths\n",
        "\n",
        "# Adjust the size of furnitures\n",
        "def resize_furniture_for_layout(furniture_img, room_dimensions, layout_size=(512, 512)):\n",
        "    room_m2 = room_dimensions[0] * room_dimensions[1]\n",
        "    scale_factor = max(0.15, min(0.35, 20 / room_m2))\n",
        "    new_w = int(layout_size[0] * scale_factor)\n",
        "    new_h = int(layout_size[1] * scale_factor)\n",
        "    return furniture_img.resize((new_w, new_h))\n"
      ],
      "metadata": {
        "id": "kRzLJzsExz03"
      },
      "execution_count": null,
      "outputs": []
    },
    {
      "cell_type": "code",
      "source": [
        "# Generate the final image\n",
        "\n",
        "def generate_layout_image(room_dimensions, window_position, door_position):\n",
        "    SCALE = 100\n",
        "    width, height = room_dimensions\n",
        "    layout_w = int(width * SCALE)\n",
        "    layout_h = int(height * SCALE)\n",
        "    img = Image.new(\"RGB\", (layout_w, layout_h), color=\"#e8e8e8\")\n",
        "    draw = ImageDraw.Draw(img)\n",
        "\n",
        "    # Drawing room boundaries\n",
        "    draw.rectangle([0, 0, layout_w - 1, layout_h - 1], outline=\"black\", width=3)\n",
        "\n",
        "    # Add window\n",
        "    window_width = 60  # Example window width\n",
        "    window_height = 10  # Example window height\n",
        "    if window_position == \"north\":\n",
        "        # Window on the north wall, centered\n",
        "        window_x = (layout_w - window_width) // 2\n",
        "        window_y = 0  # Top of the room\n",
        "        draw.rectangle([window_x, window_y, window_x + window_width, window_y + window_height], fill=\"blue\")\n",
        "    elif window_position == \"south\":\n",
        "        # Window on the south wall, centered\n",
        "        window_x = (layout_w - window_width) // 2\n",
        "        window_y = layout_h - window_height  # Bottom of the room\n",
        "        draw.rectangle([window_x, window_y, window_x + window_width, window_y + window_height], fill=\"blue\")\n",
        "    elif window_position == \"west\":\n",
        "        # Window on the west wall, centered\n",
        "        window_x = 0  # Left side of the room\n",
        "        window_y = (layout_h - window_height) // 2\n",
        "        draw.rectangle([window_x, window_y, window_x + window_width, window_y + window_height], fill=\"blue\")\n",
        "    elif window_position == \"east\":\n",
        "        # Window on the east wall, centered\n",
        "        window_x = layout_w - window_width  # Right side of the room\n",
        "        window_y = (layout_h - window_height) // 2\n",
        "        draw.rectangle([window_x, window_y, window_x + window_width, window_y + window_height], fill=\"blue\")\n",
        "\n",
        "    # Add door\n",
        "    door_width = 20  # Example door width\n",
        "    door_height = 40  # Example door height\n",
        "    if door_position == \"west\":\n",
        "        # Door on the west wall, centered\n",
        "        door_x = 0  # Left side of the room\n",
        "        door_y = (layout_h - door_height) // 2\n",
        "        draw.rectangle([door_x, door_y, door_x + door_width, door_y + door_height], fill=\"red\")\n",
        "    elif door_position == \"east\":\n",
        "        # Door on the east wall, centered\n",
        "        door_x = layout_w - door_width  # Right side of the room\n",
        "        door_y = (layout_h - door_height) // 2\n",
        "        draw.rectangle([door_x, door_y, door_x + door_width, door_y + door_height], fill=\"red\")\n",
        "    elif door_position == \"north\":\n",
        "        # Door on the north wall, centered\n",
        "        door_x = (layout_w - door_width) // 2\n",
        "        door_y = 0  # Top of the room\n",
        "        draw.rectangle([door_x, door_y, door_x + door_width, door_y + door_height], fill=\"red\")\n",
        "    elif door_position == \"south\":\n",
        "        # Door on the south wall, centered\n",
        "        door_x = (layout_w - door_width) // 2\n",
        "        door_y = layout_h - door_height  # Bottom of the room\n",
        "        draw.rectangle([door_x, door_y, door_x + door_width, door_y + door_height], fill=\"red\")\n",
        "\n",
        "    return img.resize((512, 512))  # Resize for better viewing\n",
        "\n",
        "\n"
      ],
      "metadata": {
        "id": "RuWkmNBeTPL9"
      },
      "execution_count": null,
      "outputs": []
    },
    {
      "cell_type": "code",
      "source": [
        "def place_furniture(layout, furniture_paths, room_dimensions, window_pos, door_pos):\n",
        "    layout = layout.convert(\"RGBA\")\n",
        "    placed_positions = []  # Track placed positions to avoid overlap\n",
        "    for path in furniture_paths:\n",
        "        try:\n",
        "            clean_path = remove_background(path)\n",
        "            furniture = Image.open(clean_path).convert(\"RGBA\")\n",
        "            furniture = resize_furniture_for_layout(furniture, room_dimensions, layout_size=layout.size)\n",
        "\n",
        "            # Get a unique position for the furniture\n",
        "            x, y, width, height = get_smart_position(path, layout.size, window_pos, door_pos, placed_positions)\n",
        "\n",
        "            # Add shadow for depth\n",
        "            shadow = furniture.copy().filter(ImageFilter.GaussianBlur(5))\n",
        "            layout.alpha_composite(shadow, (x + 8, y + 8))\n",
        "            layout.alpha_composite(furniture, (x, y))\n",
        "\n",
        "            placed_positions.append((x, y, width, height))  # Save positions\n",
        "        except Exception as e:\n",
        "            print(f\" Error placing furniture {path}: {e}\")\n",
        "\n",
        "    return layout.convert(\"RGB\"), placed_positions\n",
        "\n",
        "\n",
        "# get a samrt position for each furniture on the layout\n",
        "def get_smart_position(furniture_name, layout_size, window_pos, door_pos, placed_furniture):\n",
        "    w, h = layout_size\n",
        "\n",
        "    # Check for window and door positions\n",
        "    avoid_zones = []\n",
        "    if window_pos == \"north\":\n",
        "        avoid_zones.append(((w // 2 - 60, 0), (w // 2 + 60, 30)))\n",
        "    elif window_pos == \"south\":\n",
        "        avoid_zones.append(((w // 2 - 60, h - 30), (w // 2 + 60, h)))\n",
        "    if door_pos == \"west\":\n",
        "        avoid_zones.append(((0, h // 2 - 60), (30, h // 2 + 60)))\n",
        "    elif door_pos == \"east\":\n",
        "        avoid_zones.append(((w - 30, h // 2 - 60), (w, h // 2 + 60)))\n",
        "\n",
        "    # Smart spots for furniture types\n",
        "    smart_spots = {\n",
        "        \"bed\": (w // 2 - 100, h - 200, 200, 100),\n",
        "        \"cabinet\": (30, 30, 100, 200),\n",
        "        \"chair\": (w // 2 + 30, h // 2, 50, 50),\n",
        "        \"clock\": (w - 80, 30, 40, 40),\n",
        "        \"couch\": (w // 4, h // 2 + 60, 150, 75),\n",
        "        \"oven\": (w - 120, h - 120, 80, 80),\n",
        "        \"pillow\": (w // 2 - 100, h // 2 + 100, 50, 50),\n",
        "        \"table\": (w // 3, h // 3, 100, 50)\n",
        "    }\n",
        "\n",
        "    # Default size if not found in smart_spots\n",
        "    x, y, width, height = smart_spots.get(furniture_name, (random.randint(50, max(w - 150, 50)), random.randint(50, max(h - 150, 50)), 100, 100))\n",
        "\n",
        "    #  Check if the selected position overlaps with already placed furniture\n",
        "    def is_overlapping(x, y, width, height):\n",
        "        for (px, py, pwidth, pheight) in placed_furniture:\n",
        "            if not (x + width < px or x > px + pwidth or y + height < py or y > py + pheight):\n",
        "                return True\n",
        "        return False\n",
        "\n",
        "    # Ensure no overlap with other furniture\n",
        "    max_attempts = 10\n",
        "    attempts = 0\n",
        "    while is_overlapping(x, y, width, height) and attempts < max_attempts:\n",
        "        x, y = random.randint(50, max(w - 150, 50)), random.randint(50, max(h - 150, 50))\n",
        "        attempts += 1\n",
        "\n",
        "    # If max attempts reached, use the last valid position\n",
        "    if attempts == max_attempts:\n",
        "        print(f\" Max attempts reached while placing {furniture_name}. Using last valid position.\")\n",
        "\n",
        "    # Add the position to the placed furniture\n",
        "    placed_furniture.append((x, y, width, height))\n",
        "\n",
        "    return x, y, width, height\n"
      ],
      "metadata": {
        "id": "Ci7igkVDAxmC"
      },
      "execution_count": null,
      "outputs": []
    },
    {
      "cell_type": "code",
      "source": [
        "def generate_prompt(inputs, furniture_positions):\n",
        "    width, height = inputs[\"room_dimensions\"]\n",
        "    furniture_list = \", \".join(inputs[\"furniture_types\"])\n",
        "\n",
        "\n",
        "    furniture_details = []\n",
        "    for furniture_type, (x, y, w, h) in furniture_positions:\n",
        "        furniture_details.append(f\"Place a {furniture_type} at position ({x}, {y})\")\n",
        "\n",
        "    furniture_details_str = \"; \".join(furniture_details)\n",
        "\n",
        "    prompt = (\n",
        "        f\"A realistic {inputs['style']} {inputs['room_type']} interior with furniture placed based on the given layout image. \"\n",
        "        f\"The room is {width}x{height} meters with a window on the {inputs['window_position']} wall and a door on the {inputs['door_position']} wall. \"\n",
        "        f\"The furniture includes: {furniture_list}. \"\n",
        "        f\"Ensure that each piece of furniture matches its exact appearance, including style, color, and material, as shown in the layout image. \"\n",
        "        f\"Furniture placement details: {furniture_details_str}. \"\n",
        "        f\"Make sure the furniture arrangement respects the provided layout and includes natural placement, ensuring furniture does not overlap. \"\n",
        "        f\"Also, ensure the furniture is well-lit, placed according to the layout, with cozy and warm textures, just as they appear in the layout. \"\n",
        "        f\"Additional considerations: {inputs['extra_description']}. \"\n",
        "        f\"Be sure to consider room features like wall color, window and door placements, and ensure realistic lighting and shadows.\"\n",
        "    )\n",
        "\n",
        "\n",
        "    if len(prompt) > 350:\n",
        "     prompt = prompt[:350]\n",
        "\n",
        "\n",
        "    return prompt\n"
      ],
      "metadata": {
        "id": "2kJa_KfrmktO"
      },
      "execution_count": null,
      "outputs": []
    },
    {
      "cell_type": "code",
      "source": [
        "def generate_final_design_with_controlnet(layout_with_furniture, final_prompt, pipe, mask_image=None):\n",
        "    if not isinstance(layout_with_furniture, Image.Image):\n",
        "        raise ValueError(\"layout_with_furniture must be a PIL Image\")\n",
        "\n",
        "    # Ensure RGB format\n",
        "    layout_rgb = layout_with_furniture.convert(\"RGB\")\n",
        "\n",
        "    result = pipe(\n",
        "        prompt=final_prompt,\n",
        "        image=layout_rgb,\n",
        "        control_image=layout_rgb,  # IMPORTANT: for ControlNet\n",
        "        mask_image=mask_image,     # Optional: only if using inpainting\n",
        "        num_inference_steps=30,\n",
        "        guidance_scale=8.0,\n",
        "        controlnet_conditioning_scale=1.0,\n",
        "    ).images[0]\n",
        "\n",
        "    result.save(\"final_design.png\")\n",
        "    print(\"✅ Final design saved as final_design.png\")\n"
      ],
      "metadata": {
        "id": "4F-Il-mAzpeV"
      },
      "execution_count": null,
      "outputs": []
    },
    {
      "cell_type": "code",
      "source": [
        "# Load Stable Diffusion pipeline\n",
        "import torch\n",
        "\n",
        "device = torch.device('cuda' if torch.cuda.is_available() else 'cpu')\n",
        "\n",
        "pipe = StableDiffusionPipeline.from_pretrained(\n",
        "    \"runwayml/stable-diffusion-v1-5\",\n",
        "    torch_dtype=torch.float16 if torch.cuda.is_available() else torch.float32,\n",
        "    safety_checker=None\n",
        ").to(device)\n",
        "\n",
        "# ControlNet setup\n",
        "controlnet = ControlNetModel.from_pretrained(\"lllyasviel/control_v11p_sd15_canny\", torch_dtype=torch.float16)\n",
        "controlnet.to(device)\n",
        "\n",
        "# Create a pipe for Stable Diffusion with ControlNet\n",
        "pipe.controlnet = controlnet"
      ],
      "metadata": {
        "id": "rKnA7iPMhC_2"
      },
      "execution_count": null,
      "outputs": []
    },
    {
      "cell_type": "code",
      "source": [
        "def choose_from_list(title, options):\n",
        "    print(f\"\\n📌 Choose {title} from the list below:\")\n",
        "    for i, option in enumerate(options):\n",
        "        print(f\"{i+1}. {option}\")\n",
        "    while True:\n",
        "        try:\n",
        "            choice = int(input(f\"Enter {title} number (1-{len(options)}): \"))\n",
        "            if 1 <= choice <= len(options):\n",
        "                return options[choice - 1]\n",
        "            else:\n",
        "                print(\"❌ Invalid number. Try again.\")\n",
        "        except ValueError:\n",
        "            print(\"❌ Please enter a valid number.\")\n",
        "\n",
        "# Main execution pipeline\n",
        "if __name__ == \"__main__\":\n",
        "\n",
        "    # Folder with furniture images\n",
        "    image_folder = \"/content/unzipped_data/content/all_data_filtered\"\n",
        "\n",
        "    # Valid room types and styles\n",
        "    valid_room_types = [\"bathroom\", \"bedroom\", \"dinning\", \"kitchen\", \"livingroom\"]\n",
        "    valid_styles = [\n",
        "        \"asian\", \"coastal\", \"contemporary\", \"craftsman\", \"eclectic\", \"farmhouse\",\n",
        "        \"french-country\", \"industrial\", \"mediterranean\", \"mid-century-modern\",\n",
        "        \"modern\", \"rustic\", \"scandinavian\", \"shabby-chic-style\", \"southwestern\",\n",
        "        \"traditional\", \"transitional\", \"tropical\", \"victorian\"\n",
        "    ]\n",
        "\n",
        "    # User selections\n",
        "    room_type = choose_from_list(\"room type\", valid_room_types)\n",
        "    style = choose_from_list(\"style\", valid_styles)\n",
        "\n",
        "    # Other inputs\n",
        "    room_dimensions = tuple(map(int, input(\"Enter room dimensions (width height) seperated by space: \").split()))\n",
        "    window_position = input(\"Enter window position (north, south, east, west): \").strip().lower()\n",
        "    door_position = input(\"Enter door position (north, south, east, west): \").strip().lower()\n",
        "    extra_description = input(\"Enter any extra description (optional): \").strip()\n",
        "    furniture_types = input(\"Enter furniture types separated by commas (e.g., bed, couch): \").split(\",\")\n",
        "    furniture_types = [f.strip().lower() for f in furniture_types]\n",
        "\n",
        "    # Combine all inputs\n",
        "    inputs = {\n",
        "        \"room_type\": room_type,\n",
        "        \"style\": style,\n",
        "        \"room_dimensions\": room_dimensions,\n",
        "        \"window_position\": window_position,\n",
        "        \"door_position\": door_position,\n",
        "        \"extra_description\": extra_description,\n",
        "        \"furniture_types\": furniture_types\n",
        "    }\n",
        "\n",
        "    # Select furniture paths\n",
        "    furniture_paths = select_furniture1(image_folder, room_type=inputs[\"room_type\"], style=inputs[\"style\"],\n",
        "                                        furniture_types=inputs[\"furniture_types\"], top_k=2)\n",
        "\n",
        "    # Generate layout and place furniture\n",
        "    layout = generate_layout_image(inputs[\"room_dimensions\"], inputs[\"window_position\"], inputs[\"door_position\"])\n",
        "    layout_with_furniture, placed_positions = place_furniture(layout, furniture_paths, inputs[\"room_dimensions\"],\n",
        "                                                               inputs[\"window_position\"], inputs[\"door_position\"])\n",
        "    layout_with_furniture.save(\"check_layout.png\")\n",
        "\n",
        "    # Get prompt\n",
        "    furniture_positions = list(zip(inputs[\"furniture_types\"], placed_positions))\n",
        "    final_prompt = generate_prompt(inputs, furniture_positions)"
      ],
      "metadata": {
        "id": "DMlvLL6rG3Ii"
      },
      "execution_count": null,
      "outputs": []
    },
    {
      "cell_type": "code",
      "source": [
        "# Define a utility function to truncate long prompts\n",
        "\n",
        "from transformers import CLIPTokenizer\n",
        "tokenizer = CLIPTokenizer.from_pretrained(\"openai/clip-vit-large-patch14\")\n",
        "\n",
        "def truncate_prompt(prompt):\n",
        "    tokens = tokenizer(prompt, return_tensors=\"pt\")[\"input_ids\"][0]\n",
        "    if len(tokens) > 77:\n",
        "        prompt = tokenizer.decode(tokens[:77], skip_special_tokens=True)\n",
        "    return prompt\n"
      ],
      "metadata": {
        "id": "Z-vTj-CNpL5_"
      },
      "execution_count": null,
      "outputs": []
    },
    {
      "cell_type": "code",
      "source": [
        "final_prompt= truncate_prompt(final_prompt)\n",
        "\n",
        " # Print the generated prompt for debugging purposes\n",
        "    print(\"\\n📝 Prompt:\\n\", final_prompt)"
      ],
      "metadata": {
        "id": "kpOKfDHzpOgr"
      },
      "execution_count": null,
      "outputs": []
    },
    {
      "cell_type": "code",
      "source": [
        "#generate the final design\n",
        "generate_final_design_with_controlnet(layout_with_furniture, final_prompt, pipe)"
      ],
      "metadata": {
        "id": "4Ad16DUsYkJV"
      },
      "execution_count": null,
      "outputs": []
    },
    {
      "cell_type": "code",
      "source": [
        "#Evaluation process\n",
        "import zipfile\n",
        "\n",
        "def unzip_dataset(zip_path, extract_to):\n",
        "    with zipfile.ZipFile(zip_path, 'r') as zip_ref:\n",
        "        zip_ref.extractall(extract_to)\n",
        "    print(f\"✅ Extracted: {extract_to}\")\n",
        "\n",
        "unzip_dataset(\"/content/archive (2).zip\", \"/content/rooms_data\")\n",
        "#***This dataset is subject to usage rights. Please verify before use***\n",
        "unzip_dataset(\"//content/archive (3).zip\", \"/content/styles_data\")"
      ],
      "metadata": {
        "id": "cgbeNT3od5Ge"
      },
      "execution_count": null,
      "outputs": []
    },
    {
      "cell_type": "code",
      "source": [
        "from tensorflow.keras.preprocessing.image import ImageDataGenerator\n",
        "\n",
        "# Create ImageDataGenerator instances\n",
        "room_datagen = ImageDataGenerator(rescale=1./255, validation_split=0.2)  # Rescale images\n",
        "style_datagen = ImageDataGenerator(rescale=1./255, validation_split=0.2)  # Rescale images\n",
        "\n",
        "# Define room_generator and style_generator before validation generators\n",
        "room_generator = room_datagen.flow_from_directory(\n",
        "    \"/content/rooms_data/House_Room_Dataset\",\n",
        "    target_size=(128, 128),\n",
        "    batch_size=32,\n",
        "    class_mode='categorical',\n",
        "    subset='training'  # Set this to training subset for room_generator\n",
        ")\n",
        "\n",
        "style_generator = style_datagen.flow_from_directory(\n",
        "    \"/content/styles_data/dataset_train\",\n",
        "    target_size=(128, 128),\n",
        "    batch_size=32,\n",
        "    class_mode='categorical',\n",
        "    subset='training'  # Set this to training subset for style_generator\n",
        ")\n",
        "\n",
        "room_validation_generator = room_datagen.flow_from_directory(\n",
        "    \"//content/rooms_data/House_Room_Dataset\",\n",
        "    target_size=(128, 128),\n",
        "    batch_size=32,\n",
        "    class_mode='categorical',\n",
        "    subset='validation'  # Set this to validation subset\n",
        ")\n",
        "\n",
        "style_validation_generator = style_datagen.flow_from_directory(\n",
        "    \"/content/styles_data/dataset_train\",\n",
        "    target_size=(128, 128),\n",
        "    batch_size=32,\n",
        "    class_mode='categorical',\n",
        "    subset='validation'  # Set this to validation subset\n",
        ")"
      ],
      "metadata": {
        "id": "nyEJWhgsuSak"
      },
      "execution_count": null,
      "outputs": []
    },
    {
      "cell_type": "code",
      "source": [
        "from tensorflow.keras.applications import VGG16\n",
        "from tensorflow.keras.layers import GlobalAveragePooling2D\n",
        "from tensorflow.keras.models import Model\n",
        "\n",
        "def create_transfer_learning_model(num_classes):\n",
        "    base_model = VGG16(weights='imagenet', include_top=False, input_shape=(128, 128, 3))\n",
        "    x = base_model.output\n",
        "    x = GlobalAveragePooling2D()(x)\n",
        "    x = Dense(128, activation='relu')(x)\n",
        "    x = Dropout(0.5)(x)\n",
        "    output = Dense(num_classes, activation='softmax')(x)\n",
        "\n",
        "    model = Model(inputs=base_model.input, outputs=output)\n",
        "\n",
        "    # Freeze layers of base model for fine-tuning\n",
        "    for layer in base_model.layers:\n",
        "        layer.trainable = False\n",
        "\n",
        "    model.compile(optimizer='adam', loss='categorical_crossentropy', metrics=['accuracy'])\n",
        "    return model\n"
      ],
      "metadata": {
        "id": "MifaR3QpuSUz"
      },
      "execution_count": null,
      "outputs": []
    },
    {
      "cell_type": "code",
      "source": [
        "from tensorflow.keras.layers import Dense, Dropout, GlobalAveragePooling2D\n",
        "room_model = create_transfer_learning_model(num_classes=room_generator.num_classes)\n",
        "style_model = create_transfer_learning_model(num_classes=style_generator.num_classes)\n",
        "\n",
        "# Train models\n",
        "room_model.fit(room_generator, validation_data=room_validation_generator, epochs=5)\n",
        "style_model.fit(style_generator, validation_data=style_validation_generator, epochs=5)\n"
      ],
      "metadata": {
        "id": "8DwvrMtruSQg"
      },
      "execution_count": null,
      "outputs": []
    },
    {
      "cell_type": "code",
      "source": [
        "# Classification function\n",
        "def classify_generated_image(image_path, model, class_labels):\n",
        "    img = load_img(image_path, target_size=(128, 128))\n",
        "    img_array = img_to_array(img) / 255.0\n",
        "    img_array = np.expand_dims(img_array, axis=0)\n",
        "\n",
        "    prediction = model.predict(img_array)[0]\n",
        "    predicted_class = class_labels[np.argmax(prediction)]\n",
        "\n",
        "    return predicted_class"
      ],
      "metadata": {
        "id": "B4Q7RKSYyGx9"
      },
      "execution_count": null,
      "outputs": []
    },
    {
      "cell_type": "code",
      "source": [
        "from tensorflow.keras.utils import load_img, img_to_array\n",
        "# Get class labels\n",
        "room_labels = list(room_generator.class_indices.keys())\n",
        "style_labels = list(style_generator.class_indices.keys())\n",
        "\n",
        "# Predict room type and style for generated image\n",
        "generated_image_path = \"/content/final_design.png\"\n",
        "predicted_room = classify_generated_image(generated_image_path, room_model, room_labels)\n",
        "predicted_style = classify_generated_image(generated_image_path, style_model, style_labels)\n",
        "\n",
        "# Compute the final score\n",
        "def compute_final_score(user_inputs, predicted_room, predicted_style):\n",
        "    room_match = int(predicted_room.lower() == inputs['room_type'].lower())\n",
        "    style_match = int(predicted_style.lower() == inputs['style'].lower())\n",
        "\n",
        "    print(\"\\n Evaluation Report:\")\n",
        "    print(f\"Room Type Match: {'✅' if room_match else '❌'}\")\n",
        "    print(f\"Style Match: {'✅' if style_match else '❌'}\")\n",
        "\n",
        "    final_score = (room_match + style_match) / 2\n",
        "    print(f\"\\n Final Score: {final_score:.2f}\")\n",
        "    return final_score"
      ],
      "metadata": {
        "id": "PuCO3MQDyGvC"
      },
      "execution_count": null,
      "outputs": []
    },
    {
      "cell_type": "code",
      "source": [
        "compute_final_score(inputs, predicted_room, predicted_style)"
      ],
      "metadata": {
        "id": "7Z569efqyGse"
      },
      "execution_count": null,
      "outputs": []
    },
    {
      "cell_type": "markdown",
      "source": [],
      "metadata": {
        "id": "zOxscwiuGBum"
      }
    }
  ],
  "metadata": {
    "colab": {
      "provenance": [],
      "gpuType": "T4",
      "collapsed_sections": [
        "WAHes0yQB7Xh"
      ]
    },
    "kernelspec": {
      "display_name": "Python 3",
      "name": "python3"
    },
    "accelerator": "GPU"
  },
  "nbformat": 4,
  "nbformat_minor": 0
}